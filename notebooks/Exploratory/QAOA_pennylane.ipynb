{
 "cells": [
  {
   "cell_type": "code",
   "execution_count": 9,
   "id": "5f8a16f0",
   "metadata": {},
   "outputs": [
    {
     "name": "stdout",
     "output_type": "stream",
     "text": [
      "Python executable: c:\\Users\\13174\\Documents\\GaltonBoard\\.pixi\\envs\\default\\python.exe\n",
      "Python version   : 3.12.11\n",
      "PennyLane        : 0.41.0\n",
      "Torch            : 2.4.0+cpu\n"
     ]
    },
    {
     "data": {
      "text/plain": [
       "<module 'circuit.quantum_galton_board' from 'C:\\\\Users\\\\13174\\\\Documents\\\\GaltonBoard\\\\src\\\\circuit\\\\quantum_galton_board.py'>"
      ]
     },
     "execution_count": 9,
     "metadata": {},
     "output_type": "execute_result"
    }
   ],
   "source": [
    "import sys, pathlib, importlib, inspect\n",
    "import pennylane as qml\n",
    "from pennylane import numpy as np\n",
    "import torch\n",
    "from pennylane.transforms import make_tape\n",
    "from pennylane.qcut import cut_circuit\n",
    "from pennylane.qcut.processing import qcut_processing_fn\n",
    "#I just realized the kernel isn't even pixi's...\n",
    "# double checking versions\n",
    "print(\"Python executable:\", sys.executable)\n",
    "print(\"Python version   :\", sys.version.split()[0])\n",
    "print(\"PennyLane        :\", qml.__version__)\n",
    "print(\"Torch            :\", torch.__version__)\n",
    "\n",
    "PROJECT_ROOT = pathlib.Path.cwd().resolve().parent.parent\n",
    "SRC = PROJECT_ROOT / \"src\"\n",
    "if str(SRC) not in sys.path:\n",
    "    sys.path.append(str(SRC))\n",
    "\n",
    "import circuit.quantum_galton_board as qgb\n",
    "importlib.reload(qgb)"
   ]
  },
  {
   "cell_type": "code",
   "execution_count": 11,
   "id": "fc96765b",
   "metadata": {},
   "outputs": [
    {
     "name": "stdout",
     "output_type": "stream",
     "text": [
      "<class 'function'>\n",
      "False\n",
      "decorators:     def template():\n"
     ]
    }
   ],
   "source": [
    "\n",
    "levels = 6\n",
    "num_wires = 2 * levels\n",
    "cut_wires = [6]\n",
    "shots = 20_000\n",
    "\n",
    "galton = qgb.galton_template(levels, bias=0.3, coherence=False)      # no resets → no measurements\n",
    "\n",
    "print(type(galton))                        # should be <class 'function'>\n",
    "print(isinstance(galton, qml.QNode))       # should be False\n",
    "print(\"decorators:\", inspect.getsource(galton).splitlines()[0])\n"
   ]
  },
  {
   "cell_type": "code",
   "execution_count": 12,
   "id": "3f1127dc",
   "metadata": {},
   "outputs": [],
   "source": [
    "#QAOA layer on wires 8-15 to cut the circuit smaller\n",
    "\n",
    "data_wires = list(range(levels, 2 * levels))\n",
    "pairs = [(i, j) for i in range(len(data_wires)) for j in range(i + 1, len(data_wires))]\n",
    "\n",
    "gamma = np.array(0.8, requires_grad=True)\n",
    "beta = np.array(0.4, requires_grad=True)\n",
    "\n",
    "def maxcut_H(pairs, ws):\n",
    "    coeffs = [-0.5] * len(pairs)\n",
    "    obs = [qml.PauliZ(ws[i]) @ qml.PauliZ(ws[j]) for (i, j) in pairs]\n",
    "    return qml.Hamiltonian(coeffs, obs)\n",
    "\n",
    "cost_H = qml.Hamiltonian(\n",
    "    [-0.5],\n",
    "    [qml.PauliZ(data_wires[0]) @ qml.PauliZ(data_wires[1])]\n",
    ")\n",
    "\n",
    "def qaoa_layer():\n",
    "    for (i, j) in pairs:\n",
    "        qml.CNOT(wires=[data_wires[i], data_wires[j]])\n",
    "        qml.RZ(2 * gamma, wires=data_wires[j])\n",
    "        qml.CNOT(wires=[data_wires[i], data_wires[j]])\n",
    "    for w in data_wires:\n",
    "        qml.RX(2 * beta, wires=w)\n",
    "\n"
   ]
  },
  {
   "cell_type": "code",
   "execution_count": 18,
   "id": "de526987",
   "metadata": {},
   "outputs": [],
   "source": [
    "#so now we build the circuit with da qaoa layer\n",
    "\n",
    "dev = qml.device(\"lightning.qubit\", wires=num_wires, shots=shots)\n",
    "\n",
    "with qml.queuing.AnnotatedQueue() as q:\n",
    "    def full_circuit():\n",
    "        galton = qgb.galton_template(levels, bias=0.3, coherence=False)\n",
    "        galton()\n",
    "        qaoa_layer()\n",
    "        return qml.expval(qml.PauliZ(data_wires[0]))\n",
    "\n",
    "    full_circuit()"
   ]
  },
  {
   "cell_type": "code",
   "execution_count": 22,
   "id": "77697ff5",
   "metadata": {},
   "outputs": [
    {
     "name": "stdout",
     "output_type": "stream",
     "text": [
      "Measurements: [expval(Z(6))]\n",
      "Measurement count: 1\n",
      "Measurement types: [<class 'pennylane.measurements.expval.ExpectationMP'>]\n",
      "00 | RX              | wires=Wires([0]) | type=<class 'pennylane.ops.qubit.parametric_ops_single_qubit.RX'>\n",
      "01 | PauliX          | wires=Wires([6]) | type=<class 'pennylane.ops.qubit.non_parametric_ops.PauliX'>\n",
      "02 | CSWAP           | wires=Wires([0, 5, 6]) | type=<class 'pennylane.ops.op_math.controlled_ops.CSWAP'>\n",
      "03 | CNOT            | wires=Wires([6, 0]) | type=<class 'pennylane.ops.op_math.controlled_ops.CNOT'>\n",
      "04 | CSWAP           | wires=Wires([0, 6, 7]) | type=<class 'pennylane.ops.op_math.controlled_ops.CSWAP'>\n",
      "05 | MidMeasureMP    | wires=Wires([0]) | type=<class 'pennylane.measurements.mid_measure.MidMeasureMP'>\n",
      "06 | RX              | wires=Wires([0]) | type=<class 'pennylane.ops.qubit.parametric_ops_single_qubit.RX'>\n",
      "07 | CSWAP           | wires=Wires([0, 4, 5]) | type=<class 'pennylane.ops.op_math.controlled_ops.CSWAP'>\n",
      "08 | CNOT            | wires=Wires([5, 0]) | type=<class 'pennylane.ops.op_math.controlled_ops.CNOT'>\n",
      "09 | CSWAP           | wires=Wires([0, 5, 6]) | type=<class 'pennylane.ops.op_math.controlled_ops.CSWAP'>\n",
      "10 | MidMeasureMP    | wires=Wires([0]) | type=<class 'pennylane.measurements.mid_measure.MidMeasureMP'>\n",
      "11 | RX              | wires=Wires([0]) | type=<class 'pennylane.ops.qubit.parametric_ops_single_qubit.RX'>\n",
      "12 | CSWAP           | wires=Wires([0, 6, 7]) | type=<class 'pennylane.ops.op_math.controlled_ops.CSWAP'>\n",
      "13 | CNOT            | wires=Wires([7, 0]) | type=<class 'pennylane.ops.op_math.controlled_ops.CNOT'>\n",
      "14 | CSWAP           | wires=Wires([0, 7, 8]) | type=<class 'pennylane.ops.op_math.controlled_ops.CSWAP'>\n",
      "15 | MidMeasureMP    | wires=Wires([0]) | type=<class 'pennylane.measurements.mid_measure.MidMeasureMP'>\n",
      "16 | RX              | wires=Wires([0]) | type=<class 'pennylane.ops.qubit.parametric_ops_single_qubit.RX'>\n",
      "17 | CSWAP           | wires=Wires([0, 3, 4]) | type=<class 'pennylane.ops.op_math.controlled_ops.CSWAP'>\n",
      "18 | CNOT            | wires=Wires([4, 0]) | type=<class 'pennylane.ops.op_math.controlled_ops.CNOT'>\n",
      "19 | CSWAP           | wires=Wires([0, 4, 5]) | type=<class 'pennylane.ops.op_math.controlled_ops.CSWAP'>\n",
      "20 | MidMeasureMP    | wires=Wires([0]) | type=<class 'pennylane.measurements.mid_measure.MidMeasureMP'>\n",
      "21 | RX              | wires=Wires([0]) | type=<class 'pennylane.ops.qubit.parametric_ops_single_qubit.RX'>\n",
      "22 | CSWAP           | wires=Wires([0, 5, 6]) | type=<class 'pennylane.ops.op_math.controlled_ops.CSWAP'>\n",
      "23 | CNOT            | wires=Wires([6, 0]) | type=<class 'pennylane.ops.op_math.controlled_ops.CNOT'>\n",
      "24 | CSWAP           | wires=Wires([0, 6, 7]) | type=<class 'pennylane.ops.op_math.controlled_ops.CSWAP'>\n",
      "25 | MidMeasureMP    | wires=Wires([0]) | type=<class 'pennylane.measurements.mid_measure.MidMeasureMP'>\n",
      "26 | RX              | wires=Wires([0]) | type=<class 'pennylane.ops.qubit.parametric_ops_single_qubit.RX'>\n",
      "27 | CSWAP           | wires=Wires([0, 7, 8]) | type=<class 'pennylane.ops.op_math.controlled_ops.CSWAP'>\n",
      "28 | CNOT            | wires=Wires([8, 0]) | type=<class 'pennylane.ops.op_math.controlled_ops.CNOT'>\n",
      "29 | CSWAP           | wires=Wires([0, 8, 9]) | type=<class 'pennylane.ops.op_math.controlled_ops.CSWAP'>\n",
      "30 | MidMeasureMP    | wires=Wires([0]) | type=<class 'pennylane.measurements.mid_measure.MidMeasureMP'>\n",
      "31 | RX              | wires=Wires([0]) | type=<class 'pennylane.ops.qubit.parametric_ops_single_qubit.RX'>\n",
      "32 | CSWAP           | wires=Wires([0, 2, 3]) | type=<class 'pennylane.ops.op_math.controlled_ops.CSWAP'>\n",
      "33 | CNOT            | wires=Wires([3, 0]) | type=<class 'pennylane.ops.op_math.controlled_ops.CNOT'>\n",
      "34 | CSWAP           | wires=Wires([0, 3, 4]) | type=<class 'pennylane.ops.op_math.controlled_ops.CSWAP'>\n",
      "35 | MidMeasureMP    | wires=Wires([0]) | type=<class 'pennylane.measurements.mid_measure.MidMeasureMP'>\n",
      "36 | RX              | wires=Wires([0]) | type=<class 'pennylane.ops.qubit.parametric_ops_single_qubit.RX'>\n",
      "37 | CSWAP           | wires=Wires([0, 4, 5]) | type=<class 'pennylane.ops.op_math.controlled_ops.CSWAP'>\n",
      "38 | CNOT            | wires=Wires([5, 0]) | type=<class 'pennylane.ops.op_math.controlled_ops.CNOT'>\n",
      "39 | CSWAP           | wires=Wires([0, 5, 6]) | type=<class 'pennylane.ops.op_math.controlled_ops.CSWAP'>\n",
      "40 | MidMeasureMP    | wires=Wires([0]) | type=<class 'pennylane.measurements.mid_measure.MidMeasureMP'>\n",
      "41 | RX              | wires=Wires([0]) | type=<class 'pennylane.ops.qubit.parametric_ops_single_qubit.RX'>\n",
      "42 | CSWAP           | wires=Wires([0, 6, 7]) | type=<class 'pennylane.ops.op_math.controlled_ops.CSWAP'>\n",
      "43 | CNOT            | wires=Wires([7, 0]) | type=<class 'pennylane.ops.op_math.controlled_ops.CNOT'>\n",
      "44 | CSWAP           | wires=Wires([0, 7, 8]) | type=<class 'pennylane.ops.op_math.controlled_ops.CSWAP'>\n",
      "45 | MidMeasureMP    | wires=Wires([0]) | type=<class 'pennylane.measurements.mid_measure.MidMeasureMP'>\n",
      "46 | RX              | wires=Wires([0]) | type=<class 'pennylane.ops.qubit.parametric_ops_single_qubit.RX'>\n",
      "47 | CSWAP           | wires=Wires([0, 8, 9]) | type=<class 'pennylane.ops.op_math.controlled_ops.CSWAP'>\n",
      "48 | CNOT            | wires=Wires([9, 0]) | type=<class 'pennylane.ops.op_math.controlled_ops.CNOT'>\n",
      "49 | CSWAP           | wires=Wires([0, 9, 10]) | type=<class 'pennylane.ops.op_math.controlled_ops.CSWAP'>\n",
      "50 | MidMeasureMP    | wires=Wires([0]) | type=<class 'pennylane.measurements.mid_measure.MidMeasureMP'>\n",
      "51 | RX              | wires=Wires([0]) | type=<class 'pennylane.ops.qubit.parametric_ops_single_qubit.RX'>\n",
      "52 | CSWAP           | wires=Wires([0, 1, 2]) | type=<class 'pennylane.ops.op_math.controlled_ops.CSWAP'>\n",
      "53 | CNOT            | wires=Wires([2, 0]) | type=<class 'pennylane.ops.op_math.controlled_ops.CNOT'>\n",
      "54 | CSWAP           | wires=Wires([0, 2, 3]) | type=<class 'pennylane.ops.op_math.controlled_ops.CSWAP'>\n",
      "55 | MidMeasureMP    | wires=Wires([0]) | type=<class 'pennylane.measurements.mid_measure.MidMeasureMP'>\n",
      "56 | RX              | wires=Wires([0]) | type=<class 'pennylane.ops.qubit.parametric_ops_single_qubit.RX'>\n",
      "57 | CSWAP           | wires=Wires([0, 3, 4]) | type=<class 'pennylane.ops.op_math.controlled_ops.CSWAP'>\n",
      "58 | CNOT            | wires=Wires([4, 0]) | type=<class 'pennylane.ops.op_math.controlled_ops.CNOT'>\n",
      "59 | CSWAP           | wires=Wires([0, 4, 5]) | type=<class 'pennylane.ops.op_math.controlled_ops.CSWAP'>\n",
      "60 | MidMeasureMP    | wires=Wires([0]) | type=<class 'pennylane.measurements.mid_measure.MidMeasureMP'>\n",
      "61 | RX              | wires=Wires([0]) | type=<class 'pennylane.ops.qubit.parametric_ops_single_qubit.RX'>\n",
      "62 | CSWAP           | wires=Wires([0, 5, 6]) | type=<class 'pennylane.ops.op_math.controlled_ops.CSWAP'>\n",
      "63 | CNOT            | wires=Wires([6, 0]) | type=<class 'pennylane.ops.op_math.controlled_ops.CNOT'>\n",
      "64 | CSWAP           | wires=Wires([0, 6, 7]) | type=<class 'pennylane.ops.op_math.controlled_ops.CSWAP'>\n",
      "65 | MidMeasureMP    | wires=Wires([0]) | type=<class 'pennylane.measurements.mid_measure.MidMeasureMP'>\n",
      "66 | RX              | wires=Wires([0]) | type=<class 'pennylane.ops.qubit.parametric_ops_single_qubit.RX'>\n",
      "67 | CSWAP           | wires=Wires([0, 7, 8]) | type=<class 'pennylane.ops.op_math.controlled_ops.CSWAP'>\n",
      "68 | CNOT            | wires=Wires([8, 0]) | type=<class 'pennylane.ops.op_math.controlled_ops.CNOT'>\n",
      "69 | CSWAP           | wires=Wires([0, 8, 9]) | type=<class 'pennylane.ops.op_math.controlled_ops.CSWAP'>\n",
      "70 | MidMeasureMP    | wires=Wires([0]) | type=<class 'pennylane.measurements.mid_measure.MidMeasureMP'>\n",
      "71 | RX              | wires=Wires([0]) | type=<class 'pennylane.ops.qubit.parametric_ops_single_qubit.RX'>\n",
      "72 | CSWAP           | wires=Wires([0, 9, 10]) | type=<class 'pennylane.ops.op_math.controlled_ops.CSWAP'>\n",
      "73 | CNOT            | wires=Wires([10, 0]) | type=<class 'pennylane.ops.op_math.controlled_ops.CNOT'>\n",
      "74 | CSWAP           | wires=Wires([0, 10, 11]) | type=<class 'pennylane.ops.op_math.controlled_ops.CSWAP'>\n",
      "75 | CNOT            | wires=Wires([6, 7]) | type=<class 'pennylane.ops.op_math.controlled_ops.CNOT'>\n",
      "76 | RZ              | wires=Wires([7]) | type=<class 'pennylane.ops.qubit.parametric_ops_single_qubit.RZ'>\n",
      "77 | CNOT            | wires=Wires([6, 7]) | type=<class 'pennylane.ops.op_math.controlled_ops.CNOT'>\n",
      "78 | CNOT            | wires=Wires([6, 8]) | type=<class 'pennylane.ops.op_math.controlled_ops.CNOT'>\n",
      "79 | RZ              | wires=Wires([8]) | type=<class 'pennylane.ops.qubit.parametric_ops_single_qubit.RZ'>\n",
      "80 | CNOT            | wires=Wires([6, 8]) | type=<class 'pennylane.ops.op_math.controlled_ops.CNOT'>\n",
      "81 | CNOT            | wires=Wires([6, 9]) | type=<class 'pennylane.ops.op_math.controlled_ops.CNOT'>\n",
      "82 | RZ              | wires=Wires([9]) | type=<class 'pennylane.ops.qubit.parametric_ops_single_qubit.RZ'>\n",
      "83 | CNOT            | wires=Wires([6, 9]) | type=<class 'pennylane.ops.op_math.controlled_ops.CNOT'>\n",
      "84 | CNOT            | wires=Wires([6, 10]) | type=<class 'pennylane.ops.op_math.controlled_ops.CNOT'>\n",
      "85 | RZ              | wires=Wires([10]) | type=<class 'pennylane.ops.qubit.parametric_ops_single_qubit.RZ'>\n",
      "86 | CNOT            | wires=Wires([6, 10]) | type=<class 'pennylane.ops.op_math.controlled_ops.CNOT'>\n",
      "87 | CNOT            | wires=Wires([6, 11]) | type=<class 'pennylane.ops.op_math.controlled_ops.CNOT'>\n",
      "88 | RZ              | wires=Wires([11]) | type=<class 'pennylane.ops.qubit.parametric_ops_single_qubit.RZ'>\n",
      "89 | CNOT            | wires=Wires([6, 11]) | type=<class 'pennylane.ops.op_math.controlled_ops.CNOT'>\n",
      "90 | CNOT            | wires=Wires([7, 8]) | type=<class 'pennylane.ops.op_math.controlled_ops.CNOT'>\n",
      "91 | RZ              | wires=Wires([8]) | type=<class 'pennylane.ops.qubit.parametric_ops_single_qubit.RZ'>\n",
      "92 | CNOT            | wires=Wires([7, 8]) | type=<class 'pennylane.ops.op_math.controlled_ops.CNOT'>\n",
      "93 | CNOT            | wires=Wires([7, 9]) | type=<class 'pennylane.ops.op_math.controlled_ops.CNOT'>\n",
      "94 | RZ              | wires=Wires([9]) | type=<class 'pennylane.ops.qubit.parametric_ops_single_qubit.RZ'>\n",
      "95 | CNOT            | wires=Wires([7, 9]) | type=<class 'pennylane.ops.op_math.controlled_ops.CNOT'>\n",
      "96 | CNOT            | wires=Wires([7, 10]) | type=<class 'pennylane.ops.op_math.controlled_ops.CNOT'>\n",
      "97 | RZ              | wires=Wires([10]) | type=<class 'pennylane.ops.qubit.parametric_ops_single_qubit.RZ'>\n",
      "98 | CNOT            | wires=Wires([7, 10]) | type=<class 'pennylane.ops.op_math.controlled_ops.CNOT'>\n",
      "99 | CNOT            | wires=Wires([7, 11]) | type=<class 'pennylane.ops.op_math.controlled_ops.CNOT'>\n",
      "100 | RZ              | wires=Wires([11]) | type=<class 'pennylane.ops.qubit.parametric_ops_single_qubit.RZ'>\n",
      "101 | CNOT            | wires=Wires([7, 11]) | type=<class 'pennylane.ops.op_math.controlled_ops.CNOT'>\n",
      "102 | CNOT            | wires=Wires([8, 9]) | type=<class 'pennylane.ops.op_math.controlled_ops.CNOT'>\n",
      "103 | RZ              | wires=Wires([9]) | type=<class 'pennylane.ops.qubit.parametric_ops_single_qubit.RZ'>\n",
      "104 | CNOT            | wires=Wires([8, 9]) | type=<class 'pennylane.ops.op_math.controlled_ops.CNOT'>\n",
      "105 | CNOT            | wires=Wires([8, 10]) | type=<class 'pennylane.ops.op_math.controlled_ops.CNOT'>\n",
      "106 | RZ              | wires=Wires([10]) | type=<class 'pennylane.ops.qubit.parametric_ops_single_qubit.RZ'>\n",
      "107 | CNOT            | wires=Wires([8, 10]) | type=<class 'pennylane.ops.op_math.controlled_ops.CNOT'>\n",
      "108 | CNOT            | wires=Wires([8, 11]) | type=<class 'pennylane.ops.op_math.controlled_ops.CNOT'>\n",
      "109 | RZ              | wires=Wires([11]) | type=<class 'pennylane.ops.qubit.parametric_ops_single_qubit.RZ'>\n",
      "110 | CNOT            | wires=Wires([8, 11]) | type=<class 'pennylane.ops.op_math.controlled_ops.CNOT'>\n",
      "111 | CNOT            | wires=Wires([9, 10]) | type=<class 'pennylane.ops.op_math.controlled_ops.CNOT'>\n",
      "112 | RZ              | wires=Wires([10]) | type=<class 'pennylane.ops.qubit.parametric_ops_single_qubit.RZ'>\n",
      "113 | CNOT            | wires=Wires([9, 10]) | type=<class 'pennylane.ops.op_math.controlled_ops.CNOT'>\n",
      "114 | CNOT            | wires=Wires([9, 11]) | type=<class 'pennylane.ops.op_math.controlled_ops.CNOT'>\n",
      "115 | RZ              | wires=Wires([11]) | type=<class 'pennylane.ops.qubit.parametric_ops_single_qubit.RZ'>\n",
      "116 | CNOT            | wires=Wires([9, 11]) | type=<class 'pennylane.ops.op_math.controlled_ops.CNOT'>\n",
      "117 | CNOT            | wires=Wires([10, 11]) | type=<class 'pennylane.ops.op_math.controlled_ops.CNOT'>\n",
      "118 | RZ              | wires=Wires([11]) | type=<class 'pennylane.ops.qubit.parametric_ops_single_qubit.RZ'>\n",
      "119 | CNOT            | wires=Wires([10, 11]) | type=<class 'pennylane.ops.op_math.controlled_ops.CNOT'>\n",
      "120 | RX              | wires=Wires([6]) | type=<class 'pennylane.ops.qubit.parametric_ops_single_qubit.RX'>\n",
      "121 | RX              | wires=Wires([7]) | type=<class 'pennylane.ops.qubit.parametric_ops_single_qubit.RX'>\n",
      "122 | RX              | wires=Wires([8]) | type=<class 'pennylane.ops.qubit.parametric_ops_single_qubit.RX'>\n",
      "123 | RX              | wires=Wires([9]) | type=<class 'pennylane.ops.qubit.parametric_ops_single_qubit.RX'>\n",
      "124 | RX              | wires=Wires([10]) | type=<class 'pennylane.ops.qubit.parametric_ops_single_qubit.RX'>\n",
      "125 | RX              | wires=Wires([11]) | type=<class 'pennylane.ops.qubit.parametric_ops_single_qubit.RX'>\n"
     ]
    },
    {
     "ename": "ValueError",
     "evalue": "Only a single return type can be used for measurement nodes in graph_to_tape",
     "output_type": "error",
     "traceback": [
      "\u001b[1;31m---------------------------------------------------------------------------\u001b[0m",
      "\u001b[1;31mValueError\u001b[0m                                Traceback (most recent call last)",
      "Cell \u001b[1;32mIn[22], line 14\u001b[0m\n\u001b[0;32m     12\u001b[0m \u001b[38;5;66;03m# Apply cut_circuit\u001b[39;00m\n\u001b[0;32m     13\u001b[0m cut_transform \u001b[38;5;241m=\u001b[39m \u001b[38;5;28;01mlambda\u001b[39;00m t: cut_circuit\u001b[38;5;241m.\u001b[39mtransform(t, device_wires\u001b[38;5;241m=\u001b[39mdev\u001b[38;5;241m.\u001b[39mwires, cuts\u001b[38;5;241m=\u001b[39mcut_wires)\n\u001b[1;32m---> 14\u001b[0m fragment_tapes, processing_fn \u001b[38;5;241m=\u001b[39m \u001b[43mcut_transform\u001b[49m\u001b[43m(\u001b[49m\u001b[43mtape\u001b[49m\u001b[43m)\u001b[49m\n",
      "Cell \u001b[1;32mIn[22], line 13\u001b[0m, in \u001b[0;36m<lambda>\u001b[1;34m(t)\u001b[0m\n\u001b[0;32m     10\u001b[0m     \u001b[38;5;28mprint\u001b[39m(\u001b[38;5;124mf\u001b[39m\u001b[38;5;124m\"\u001b[39m\u001b[38;5;132;01m{\u001b[39;00mi\u001b[38;5;132;01m:\u001b[39;00m\u001b[38;5;124m02d\u001b[39m\u001b[38;5;132;01m}\u001b[39;00m\u001b[38;5;124m | \u001b[39m\u001b[38;5;132;01m{\u001b[39;00mop\u001b[38;5;241m.\u001b[39mname\u001b[38;5;132;01m:\u001b[39;00m\u001b[38;5;124m<15\u001b[39m\u001b[38;5;132;01m}\u001b[39;00m\u001b[38;5;124m | wires=\u001b[39m\u001b[38;5;132;01m{\u001b[39;00mop\u001b[38;5;241m.\u001b[39mwires\u001b[38;5;132;01m}\u001b[39;00m\u001b[38;5;124m | type=\u001b[39m\u001b[38;5;132;01m{\u001b[39;00m\u001b[38;5;28mtype\u001b[39m(op)\u001b[38;5;132;01m}\u001b[39;00m\u001b[38;5;124m\"\u001b[39m)\n\u001b[0;32m     12\u001b[0m \u001b[38;5;66;03m# Apply cut_circuit\u001b[39;00m\n\u001b[1;32m---> 13\u001b[0m cut_transform \u001b[38;5;241m=\u001b[39m \u001b[38;5;28;01mlambda\u001b[39;00m t: \u001b[43mcut_circuit\u001b[49m\u001b[38;5;241;43m.\u001b[39;49m\u001b[43mtransform\u001b[49m\u001b[43m(\u001b[49m\u001b[43mt\u001b[49m\u001b[43m,\u001b[49m\u001b[43m \u001b[49m\u001b[43mdevice_wires\u001b[49m\u001b[38;5;241;43m=\u001b[39;49m\u001b[43mdev\u001b[49m\u001b[38;5;241;43m.\u001b[39;49m\u001b[43mwires\u001b[49m\u001b[43m,\u001b[49m\u001b[43m \u001b[49m\u001b[43mcuts\u001b[49m\u001b[38;5;241;43m=\u001b[39;49m\u001b[43mcut_wires\u001b[49m\u001b[43m)\u001b[49m\n\u001b[0;32m     14\u001b[0m fragment_tapes, processing_fn \u001b[38;5;241m=\u001b[39m cut_transform(tape)\n",
      "File \u001b[1;32mc:\\Users\\13174\\Documents\\GaltonBoard\\.pixi\\envs\\default\\Lib\\site-packages\\pennylane\\qcut\\cutcircuit.py:412\u001b[0m, in \u001b[0;36mcut_circuit\u001b[1;34m(tape, auto_cutter, use_opt_einsum, device_wires, max_depth, **kwargs)\u001b[0m\n\u001b[0;32m    409\u001b[0m fragments, communication_graph \u001b[38;5;241m=\u001b[39m fragment_graph(g)\n\u001b[0;32m    411\u001b[0m \u001b[38;5;66;03m# convert decomposed DAGs into tapes, remap their wires for device and expand them\u001b[39;00m\n\u001b[1;32m--> 412\u001b[0m fragment_tapes \u001b[38;5;241m=\u001b[39m [\u001b[43mgraph_to_tape\u001b[49m\u001b[43m(\u001b[49m\u001b[43mf\u001b[49m\u001b[43m)\u001b[49m \u001b[38;5;28;01mfor\u001b[39;00m f \u001b[38;5;129;01min\u001b[39;00m fragments]\n\u001b[0;32m    413\u001b[0m fragment_tapes \u001b[38;5;241m=\u001b[39m [\n\u001b[0;32m    414\u001b[0m     qml\u001b[38;5;241m.\u001b[39mmap_wires(t, \u001b[38;5;28mdict\u001b[39m(\u001b[38;5;28mzip\u001b[39m(t\u001b[38;5;241m.\u001b[39mwires, device_wires)))[\u001b[38;5;241m0\u001b[39m][\u001b[38;5;241m0\u001b[39m] \u001b[38;5;28;01mfor\u001b[39;00m t \u001b[38;5;129;01min\u001b[39;00m fragment_tapes\n\u001b[0;32m    415\u001b[0m ]\n\u001b[0;32m    416\u001b[0m expanded \u001b[38;5;241m=\u001b[39m [expand_fragment_tape(t) \u001b[38;5;28;01mfor\u001b[39;00m t \u001b[38;5;129;01min\u001b[39;00m fragment_tapes]\n",
      "File \u001b[1;32mc:\\Users\\13174\\Documents\\GaltonBoard\\.pixi\\envs\\default\\Lib\\site-packages\\pennylane\\qcut\\tapes.py:186\u001b[0m, in \u001b[0;36mgraph_to_tape\u001b[1;34m(graph)\u001b[0m\n\u001b[0;32m    184\u001b[0m measurement_types \u001b[38;5;241m=\u001b[39m {\u001b[38;5;28mtype\u001b[39m(meas) \u001b[38;5;28;01mfor\u001b[39;00m meas \u001b[38;5;129;01min\u001b[39;00m copy_meas}\n\u001b[0;32m    185\u001b[0m \u001b[38;5;28;01mif\u001b[39;00m \u001b[38;5;28mlen\u001b[39m(measurement_types) \u001b[38;5;241m>\u001b[39m \u001b[38;5;241m1\u001b[39m:\n\u001b[1;32m--> 186\u001b[0m     \u001b[38;5;28;01mraise\u001b[39;00m \u001b[38;5;167;01mValueError\u001b[39;00m(\n\u001b[0;32m    187\u001b[0m         \u001b[38;5;124m\"\u001b[39m\u001b[38;5;124mOnly a single return type can be used for measurement nodes in graph_to_tape\u001b[39m\u001b[38;5;124m\"\u001b[39m\n\u001b[0;32m    188\u001b[0m     )\n\u001b[0;32m    189\u001b[0m measurement_type \u001b[38;5;241m=\u001b[39m measurement_types\u001b[38;5;241m.\u001b[39mpop()\n\u001b[0;32m    191\u001b[0m \u001b[38;5;28;01mif\u001b[39;00m measurement_type \u001b[38;5;129;01mnot\u001b[39;00m \u001b[38;5;129;01min\u001b[39;00m {SampleMP, ExpectationMP}:\n",
      "\u001b[1;31mValueError\u001b[0m: Only a single return type can be used for measurement nodes in graph_to_tape"
     ]
    }
   ],
   "source": [
    "#okay now we cut the circuit\n",
    "\n",
    "# Convert to tape\n",
    "tape = qml.tape.QuantumScript.from_queue(q, shots=shots)\n",
    "print(\"Measurements:\", tape.measurements)\n",
    "print(\"Measurement count:\", len(tape.measurements))\n",
    "print(\"Measurement types:\", [type(m) for m in tape.measurements])\n",
    "\n",
    "for i, op in enumerate(tape.operations):\n",
    "    print(f\"{i:02d} | {op.name:<15} | wires={op.wires} | type={type(op)}\")\n",
    "\n",
    "# Apply cut_circuit\n",
    "cut_transform = lambda t: cut_circuit.transform(t, device_wires=dev.wires, cuts=cut_wires)\n",
    "fragment_tapes, processing_fn = cut_transform(tape)"
   ]
  },
  {
   "cell_type": "code",
   "execution_count": null,
   "id": "ddaf7754",
   "metadata": {},
   "outputs": [
    {
     "ename": "AttributeError",
     "evalue": "'QNode' object has no attribute 'measurements'",
     "output_type": "error",
     "traceback": [
      "\u001b[1;31m---------------------------------------------------------------------------\u001b[0m\n",
      "\u001b[1;31mAttributeError\u001b[0m                            Traceback (most recent call last)\n",
      "Cell \u001b[1;32mIn[37], line 7\u001b[0m\n",
      "\u001b[0;32m      4\u001b[0m cut_transform \u001b[38;5;241m=\u001b[39m qcut\u001b[38;5;241m.\u001b[39mcut_circuit\u001b[38;5;241m.\u001b[39mtransform\n",
      "\u001b[0;32m      6\u001b[0m \u001b[38;5;66;03m# Step 2: Apply it to the QNode\u001b[39;00m\n",
      "\u001b[1;32m----> 7\u001b[0m fragment_tapes, processing_fn \u001b[38;5;241m=\u001b[39m \u001b[43mcut_transform\u001b[49m\u001b[43m(\u001b[49m\u001b[43mfull_circuit\u001b[49m\u001b[43m)\u001b[49m\n",
      "\u001b[0;32m      9\u001b[0m \u001b[38;5;66;03m# Step 3: Evaluate each tape individually\u001b[39;00m\n",
      "\u001b[0;32m     10\u001b[0m results \u001b[38;5;241m=\u001b[39m [qml\u001b[38;5;241m.\u001b[39mexecute([tape], dev, \u001b[38;5;28;01mNone\u001b[39;00m)[\u001b[38;5;241m0\u001b[39m] \u001b[38;5;28;01mfor\u001b[39;00m tape \u001b[38;5;129;01min\u001b[39;00m fragment_tapes]\n",
      "\n",
      "File \u001b[1;32mc:\\Users\\13174\\Documents\\GaltonBoard\\.pixi\\envs\\default\\Lib\\site-packages\\pennylane\\qcut\\cutcircuit.py:366\u001b[0m, in \u001b[0;36mcut_circuit\u001b[1;34m(tape, auto_cutter, use_opt_einsum, device_wires, max_depth, **kwargs)\u001b[0m\n",
      "\u001b[0;32m     78\u001b[0m \u001b[38;5;250m\u001b[39m\u001b[38;5;124;03m\"\"\"\u001b[39;00m\n",
      "\u001b[0;32m     79\u001b[0m \u001b[38;5;124;03mCut up a quantum circuit into smaller circuit fragments.\u001b[39;00m\n",
      "\u001b[0;32m     80\u001b[0m \n",
      "\u001b[1;32m   (...)\u001b[0m\n",
      "\u001b[0;32m    363\u001b[0m \u001b[38;5;124;03m    0.47165198882111165\u001b[39;00m\n",
      "\u001b[0;32m    364\u001b[0m \u001b[38;5;124;03m\"\"\"\u001b[39;00m\n",
      "\u001b[0;32m    365\u001b[0m \u001b[38;5;66;03m# pylint: disable=unused-argument\u001b[39;00m\n",
      "\u001b[1;32m--> 366\u001b[0m \u001b[38;5;28;01mif\u001b[39;00m \u001b[38;5;28mlen\u001b[39m(\u001b[43mtape\u001b[49m\u001b[38;5;241;43m.\u001b[39;49m\u001b[43mmeasurements\u001b[49m) \u001b[38;5;241m!=\u001b[39m \u001b[38;5;241m1\u001b[39m:\n",
      "\u001b[0;32m    367\u001b[0m     \u001b[38;5;28;01mraise\u001b[39;00m \u001b[38;5;167;01mValueError\u001b[39;00m(\n",
      "\u001b[0;32m    368\u001b[0m         \u001b[38;5;124m\"\u001b[39m\u001b[38;5;124mThe circuit cutting workflow only supports circuits with a single output \u001b[39m\u001b[38;5;124m\"\u001b[39m\n",
      "\u001b[0;32m    369\u001b[0m         \u001b[38;5;124m\"\u001b[39m\u001b[38;5;124mmeasurement\u001b[39m\u001b[38;5;124m\"\u001b[39m\n",
      "\u001b[0;32m    370\u001b[0m     )\n",
      "\u001b[0;32m    372\u001b[0m \u001b[38;5;28;01mif\u001b[39;00m \u001b[38;5;129;01mnot\u001b[39;00m \u001b[38;5;28mall\u001b[39m(\u001b[38;5;28misinstance\u001b[39m(m, ExpectationMP) \u001b[38;5;28;01mfor\u001b[39;00m m \u001b[38;5;129;01min\u001b[39;00m tape\u001b[38;5;241m.\u001b[39mmeasurements):\n",
      "\n",
      "\u001b[1;31mAttributeError\u001b[0m: 'QNode' object has no attribute 'measurements'"
     ]
    }
   ],
   "source": [
    "from pennylane import qcut\n",
    "\n",
    "# Step 1: Get the transform function (instead of calling directly)\n",
    "cut_transform = qcut.cut_circuit.transform\n",
    "\n",
    "# Step 2: Apply it to the QNode\n",
    "fragment_tapes, processing_fn = cut_transform(full_circuit)\n",
    "\n",
    "# Step 3: Evaluate each tape individually\n",
    "results = [qml.execute([tape], dev, None)[0] for tape in fragment_tapes]\n",
    "\n",
    "# Step 4: Stitch the result\n",
    "final_result = processing_fn(results)\n",
    "print(\"⟨H⟩ after manual stitching:\", final_result)\n"
   ]
  },
  {
   "cell_type": "code",
   "execution_count": 6,
   "id": "96ef0e93",
   "metadata": {},
   "outputs": [
    {
     "ename": "ValueError",
     "evalue": "setting an array element with a sequence.",
     "output_type": "error",
     "traceback": [
      "\u001b[1;31m---------------------------------------------------------------------------\u001b[0m",
      "\u001b[1;31mTypeError\u001b[0m                                 Traceback (most recent call last)",
      "\u001b[1;31mTypeError\u001b[0m: float() argument must be a string or a real number, not 'ArrayBox'",
      "\nThe above exception was the direct cause of the following exception:\n",
      "\u001b[1;31mValueError\u001b[0m                                Traceback (most recent call last)",
      "Cell \u001b[1;32mIn[6], line 10\u001b[0m\n\u001b[0;32m      7\u001b[0m     \u001b[38;5;28;01mreturn\u001b[39;00m stitch([f() \u001b[38;5;28;01mfor\u001b[39;00m f \u001b[38;5;129;01min\u001b[39;00m frags])\n\u001b[0;32m      9\u001b[0m \u001b[38;5;28;01mfor\u001b[39;00m it \u001b[38;5;129;01min\u001b[39;00m \u001b[38;5;28mrange\u001b[39m(\u001b[38;5;241m15\u001b[39m):\n\u001b[1;32m---> 10\u001b[0m     params \u001b[38;5;241m=\u001b[39m \u001b[43mopt\u001b[49m\u001b[38;5;241;43m.\u001b[39;49m\u001b[43mstep\u001b[49m\u001b[43m(\u001b[49m\u001b[43mcut_cost_fn\u001b[49m\u001b[43m,\u001b[49m\u001b[43m \u001b[49m\u001b[43mparams\u001b[49m\u001b[43m)\u001b[49m\n\u001b[0;32m     11\u001b[0m     \u001b[38;5;28;01mif\u001b[39;00m it \u001b[38;5;241m%\u001b[39m \u001b[38;5;241m5\u001b[39m \u001b[38;5;241m==\u001b[39m \u001b[38;5;241m0\u001b[39m:\n\u001b[0;32m     12\u001b[0m         \u001b[38;5;28mprint\u001b[39m(\u001b[38;5;124mf\u001b[39m\u001b[38;5;124m\"\u001b[39m\u001b[38;5;124mIter \u001b[39m\u001b[38;5;132;01m{\u001b[39;00mit\u001b[38;5;132;01m:\u001b[39;00m\u001b[38;5;124m02d\u001b[39m\u001b[38;5;132;01m}\u001b[39;00m\u001b[38;5;124m  cost = \u001b[39m\u001b[38;5;132;01m{\u001b[39;00mcut_cost_fn(params)\u001b[38;5;132;01m:\u001b[39;00m\u001b[38;5;124m.6f\u001b[39m\u001b[38;5;132;01m}\u001b[39;00m\u001b[38;5;124m\"\u001b[39m)\n",
      "File \u001b[1;32mc:\\Users\\13174\\anaconda3\\Lib\\site-packages\\pennylane\\optimize\\gradient_descent.py:93\u001b[0m, in \u001b[0;36mGradientDescentOptimizer.step\u001b[1;34m(self, objective_fn, grad_fn, *args, **kwargs)\u001b[0m\n\u001b[0;32m     75\u001b[0m \u001b[38;5;28;01mdef\u001b[39;00m \u001b[38;5;21mstep\u001b[39m(\u001b[38;5;28mself\u001b[39m, objective_fn, \u001b[38;5;241m*\u001b[39margs, grad_fn\u001b[38;5;241m=\u001b[39m\u001b[38;5;28;01mNone\u001b[39;00m, \u001b[38;5;241m*\u001b[39m\u001b[38;5;241m*\u001b[39mkwargs):\n\u001b[0;32m     76\u001b[0m \u001b[38;5;250m    \u001b[39m\u001b[38;5;124;03m\"\"\"Update trainable arguments with one step of the optimizer.\u001b[39;00m\n\u001b[0;32m     77\u001b[0m \n\u001b[0;32m     78\u001b[0m \u001b[38;5;124;03m    Args:\u001b[39;00m\n\u001b[1;32m   (...)\u001b[0m\n\u001b[0;32m     90\u001b[0m \u001b[38;5;124;03m        If single arg is provided, list [array] is replaced by array.\u001b[39;00m\n\u001b[0;32m     91\u001b[0m \u001b[38;5;124;03m    \"\"\"\u001b[39;00m\n\u001b[1;32m---> 93\u001b[0m     g, _ \u001b[38;5;241m=\u001b[39m \u001b[38;5;28;43mself\u001b[39;49m\u001b[38;5;241;43m.\u001b[39;49m\u001b[43mcompute_grad\u001b[49m\u001b[43m(\u001b[49m\u001b[43mobjective_fn\u001b[49m\u001b[43m,\u001b[49m\u001b[43m \u001b[49m\u001b[43margs\u001b[49m\u001b[43m,\u001b[49m\u001b[43m \u001b[49m\u001b[43mkwargs\u001b[49m\u001b[43m,\u001b[49m\u001b[43m \u001b[49m\u001b[43mgrad_fn\u001b[49m\u001b[38;5;241;43m=\u001b[39;49m\u001b[43mgrad_fn\u001b[49m\u001b[43m)\u001b[49m\n\u001b[0;32m     94\u001b[0m     new_args \u001b[38;5;241m=\u001b[39m \u001b[38;5;28mself\u001b[39m\u001b[38;5;241m.\u001b[39mapply_grad(g, args)\n\u001b[0;32m     96\u001b[0m     \u001b[38;5;66;03m# unwrap from list if one argument, cleaner return\u001b[39;00m\n",
      "File \u001b[1;32mc:\\Users\\13174\\anaconda3\\Lib\\site-packages\\pennylane\\optimize\\gradient_descent.py:122\u001b[0m, in \u001b[0;36mGradientDescentOptimizer.compute_grad\u001b[1;34m(objective_fn, args, kwargs, grad_fn)\u001b[0m\n\u001b[0;32m    104\u001b[0m \u001b[38;5;250m\u001b[39m\u001b[38;5;124mr\u001b[39m\u001b[38;5;124;03m\"\"\"Compute the gradient of the objective function at the given point and return it along with\u001b[39;00m\n\u001b[0;32m    105\u001b[0m \u001b[38;5;124;03mthe objective function forward pass (if available).\u001b[39;00m\n\u001b[0;32m    106\u001b[0m \n\u001b[1;32m   (...)\u001b[0m\n\u001b[0;32m    119\u001b[0m \u001b[38;5;124;03m    will not be evaluated and instead ``None`` will be returned.\u001b[39;00m\n\u001b[0;32m    120\u001b[0m \u001b[38;5;124;03m\"\"\"\u001b[39;00m\n\u001b[0;32m    121\u001b[0m g \u001b[38;5;241m=\u001b[39m get_gradient(objective_fn) \u001b[38;5;28;01mif\u001b[39;00m grad_fn \u001b[38;5;129;01mis\u001b[39;00m \u001b[38;5;28;01mNone\u001b[39;00m \u001b[38;5;28;01melse\u001b[39;00m grad_fn\n\u001b[1;32m--> 122\u001b[0m grad \u001b[38;5;241m=\u001b[39m \u001b[43mg\u001b[49m\u001b[43m(\u001b[49m\u001b[38;5;241;43m*\u001b[39;49m\u001b[43margs\u001b[49m\u001b[43m,\u001b[49m\u001b[43m \u001b[49m\u001b[38;5;241;43m*\u001b[39;49m\u001b[38;5;241;43m*\u001b[39;49m\u001b[43mkwargs\u001b[49m\u001b[43m)\u001b[49m\n\u001b[0;32m    123\u001b[0m forward \u001b[38;5;241m=\u001b[39m \u001b[38;5;28mgetattr\u001b[39m(g, \u001b[38;5;124m\"\u001b[39m\u001b[38;5;124mforward\u001b[39m\u001b[38;5;124m\"\u001b[39m, \u001b[38;5;28;01mNone\u001b[39;00m)\n\u001b[0;32m    125\u001b[0m num_trainable_args \u001b[38;5;241m=\u001b[39m \u001b[38;5;28msum\u001b[39m(\u001b[38;5;28mgetattr\u001b[39m(arg, \u001b[38;5;124m\"\u001b[39m\u001b[38;5;124mrequires_grad\u001b[39m\u001b[38;5;124m\"\u001b[39m, \u001b[38;5;28;01mFalse\u001b[39;00m) \u001b[38;5;28;01mfor\u001b[39;00m arg \u001b[38;5;129;01min\u001b[39;00m args)\n",
      "File \u001b[1;32mc:\\Users\\13174\\anaconda3\\Lib\\site-packages\\pennylane\\_grad.py:318\u001b[0m, in \u001b[0;36mgrad.__call__\u001b[1;34m(self, *args, **kwargs)\u001b[0m\n\u001b[0;32m    315\u001b[0m     \u001b[38;5;28mself\u001b[39m\u001b[38;5;241m.\u001b[39m_forward \u001b[38;5;241m=\u001b[39m \u001b[38;5;28mself\u001b[39m\u001b[38;5;241m.\u001b[39m_fun(\u001b[38;5;241m*\u001b[39margs, \u001b[38;5;241m*\u001b[39m\u001b[38;5;241m*\u001b[39mkwargs)\n\u001b[0;32m    316\u001b[0m     \u001b[38;5;28;01mreturn\u001b[39;00m ()\n\u001b[1;32m--> 318\u001b[0m grad_value, ans \u001b[38;5;241m=\u001b[39m \u001b[43mgrad_fn\u001b[49m\u001b[43m(\u001b[49m\u001b[38;5;241;43m*\u001b[39;49m\u001b[43margs\u001b[49m\u001b[43m,\u001b[49m\u001b[43m \u001b[49m\u001b[38;5;241;43m*\u001b[39;49m\u001b[38;5;241;43m*\u001b[39;49m\u001b[43mkwargs\u001b[49m\u001b[43m)\u001b[49m  \u001b[38;5;66;03m# pylint: disable=not-callable\u001b[39;00m\n\u001b[0;32m    319\u001b[0m \u001b[38;5;28mself\u001b[39m\u001b[38;5;241m.\u001b[39m_forward \u001b[38;5;241m=\u001b[39m ans\n\u001b[0;32m    321\u001b[0m \u001b[38;5;28;01mreturn\u001b[39;00m grad_value\n",
      "File \u001b[1;32mc:\\Users\\13174\\anaconda3\\Lib\\site-packages\\autograd\\wrap_util.py:23\u001b[0m, in \u001b[0;36munary_to_nary.<locals>.nary_operator.<locals>.nary_f\u001b[1;34m(*args, **kwargs)\u001b[0m\n\u001b[0;32m     21\u001b[0m \u001b[38;5;28;01melse\u001b[39;00m:\n\u001b[0;32m     22\u001b[0m     x \u001b[38;5;241m=\u001b[39m \u001b[38;5;28mtuple\u001b[39m(args[i] \u001b[38;5;28;01mfor\u001b[39;00m i \u001b[38;5;129;01min\u001b[39;00m argnum)\n\u001b[1;32m---> 23\u001b[0m \u001b[38;5;28;01mreturn\u001b[39;00m \u001b[43munary_operator\u001b[49m\u001b[43m(\u001b[49m\u001b[43munary_f\u001b[49m\u001b[43m,\u001b[49m\u001b[43m \u001b[49m\u001b[43mx\u001b[49m\u001b[43m,\u001b[49m\u001b[43m \u001b[49m\u001b[38;5;241;43m*\u001b[39;49m\u001b[43mnary_op_args\u001b[49m\u001b[43m,\u001b[49m\u001b[43m \u001b[49m\u001b[38;5;241;43m*\u001b[39;49m\u001b[38;5;241;43m*\u001b[39;49m\u001b[43mnary_op_kwargs\u001b[49m\u001b[43m)\u001b[49m\n",
      "File \u001b[1;32mc:\\Users\\13174\\anaconda3\\Lib\\site-packages\\pennylane\\_grad.py:336\u001b[0m, in \u001b[0;36mgrad._grad_with_forward\u001b[1;34m(fun, x)\u001b[0m\n\u001b[0;32m    330\u001b[0m \u001b[38;5;129m@staticmethod\u001b[39m\n\u001b[0;32m    331\u001b[0m \u001b[38;5;129m@unary_to_nary\u001b[39m\n\u001b[0;32m    332\u001b[0m \u001b[38;5;28;01mdef\u001b[39;00m \u001b[38;5;21m_grad_with_forward\u001b[39m(fun, x):\n\u001b[0;32m    333\u001b[0m \u001b[38;5;250m    \u001b[39m\u001b[38;5;124;03m\"\"\"This function is a replica of ``autograd.grad``, with the only\u001b[39;00m\n\u001b[0;32m    334\u001b[0m \u001b[38;5;124;03m    difference being that it returns both the gradient *and* the forward pass\u001b[39;00m\n\u001b[0;32m    335\u001b[0m \u001b[38;5;124;03m    value.\"\"\"\u001b[39;00m\n\u001b[1;32m--> 336\u001b[0m     vjp, ans \u001b[38;5;241m=\u001b[39m \u001b[43m_make_vjp\u001b[49m\u001b[43m(\u001b[49m\u001b[43mfun\u001b[49m\u001b[43m,\u001b[49m\u001b[43m \u001b[49m\u001b[43mx\u001b[49m\u001b[43m)\u001b[49m  \u001b[38;5;66;03m# pylint: disable=redefined-outer-name\u001b[39;00m\n\u001b[0;32m    338\u001b[0m     \u001b[38;5;28;01mif\u001b[39;00m vspace(ans)\u001b[38;5;241m.\u001b[39msize \u001b[38;5;241m!=\u001b[39m \u001b[38;5;241m1\u001b[39m:\n\u001b[0;32m    339\u001b[0m         \u001b[38;5;28;01mraise\u001b[39;00m \u001b[38;5;167;01mTypeError\u001b[39;00m(\n\u001b[0;32m    340\u001b[0m             \u001b[38;5;124m\"\u001b[39m\u001b[38;5;124mGrad only applies to real scalar-output functions. \u001b[39m\u001b[38;5;124m\"\u001b[39m\n\u001b[0;32m    341\u001b[0m             \u001b[38;5;124m\"\u001b[39m\u001b[38;5;124mTry jacobian, elementwise_grad or holomorphic_grad.\u001b[39m\u001b[38;5;124m\"\u001b[39m\n\u001b[0;32m    342\u001b[0m         )\n",
      "File \u001b[1;32mc:\\Users\\13174\\anaconda3\\Lib\\site-packages\\autograd\\core.py:12\u001b[0m, in \u001b[0;36mmake_vjp\u001b[1;34m(fun, x)\u001b[0m\n\u001b[0;32m     10\u001b[0m \u001b[38;5;28;01mdef\u001b[39;00m \u001b[38;5;21mmake_vjp\u001b[39m(fun, x):\n\u001b[0;32m     11\u001b[0m     start_node \u001b[38;5;241m=\u001b[39m VJPNode\u001b[38;5;241m.\u001b[39mnew_root()\n\u001b[1;32m---> 12\u001b[0m     end_value, end_node \u001b[38;5;241m=\u001b[39m \u001b[43mtrace\u001b[49m\u001b[43m(\u001b[49m\u001b[43mstart_node\u001b[49m\u001b[43m,\u001b[49m\u001b[43m \u001b[49m\u001b[43mfun\u001b[49m\u001b[43m,\u001b[49m\u001b[43m \u001b[49m\u001b[43mx\u001b[49m\u001b[43m)\u001b[49m\n\u001b[0;32m     13\u001b[0m     \u001b[38;5;28;01mif\u001b[39;00m end_node \u001b[38;5;129;01mis\u001b[39;00m \u001b[38;5;28;01mNone\u001b[39;00m:\n\u001b[0;32m     15\u001b[0m         \u001b[38;5;28;01mdef\u001b[39;00m \u001b[38;5;21mvjp\u001b[39m(g):\n",
      "File \u001b[1;32mc:\\Users\\13174\\anaconda3\\Lib\\site-packages\\autograd\\tracer.py:12\u001b[0m, in \u001b[0;36mtrace\u001b[1;34m(start_node, fun, x)\u001b[0m\n\u001b[0;32m     10\u001b[0m \u001b[38;5;28;01mwith\u001b[39;00m trace_stack\u001b[38;5;241m.\u001b[39mnew_trace() \u001b[38;5;28;01mas\u001b[39;00m t:\n\u001b[0;32m     11\u001b[0m     start_box \u001b[38;5;241m=\u001b[39m new_box(x, t, start_node)\n\u001b[1;32m---> 12\u001b[0m     end_box \u001b[38;5;241m=\u001b[39m \u001b[43mfun\u001b[49m\u001b[43m(\u001b[49m\u001b[43mstart_box\u001b[49m\u001b[43m)\u001b[49m\n\u001b[0;32m     13\u001b[0m     \u001b[38;5;28;01mif\u001b[39;00m isbox(end_box) \u001b[38;5;129;01mand\u001b[39;00m end_box\u001b[38;5;241m.\u001b[39m_trace \u001b[38;5;241m==\u001b[39m start_box\u001b[38;5;241m.\u001b[39m_trace:\n\u001b[0;32m     14\u001b[0m         \u001b[38;5;28;01mreturn\u001b[39;00m end_box\u001b[38;5;241m.\u001b[39m_value, end_box\u001b[38;5;241m.\u001b[39m_node\n",
      "File \u001b[1;32mc:\\Users\\13174\\anaconda3\\Lib\\site-packages\\autograd\\wrap_util.py:17\u001b[0m, in \u001b[0;36munary_to_nary.<locals>.nary_operator.<locals>.nary_f.<locals>.unary_f\u001b[1;34m(x)\u001b[0m\n\u001b[0;32m     15\u001b[0m \u001b[38;5;28;01melse\u001b[39;00m:\n\u001b[0;32m     16\u001b[0m     subargs \u001b[38;5;241m=\u001b[39m subvals(args, \u001b[38;5;28mzip\u001b[39m(argnum, x))\n\u001b[1;32m---> 17\u001b[0m \u001b[38;5;28;01mreturn\u001b[39;00m \u001b[43mfun\u001b[49m\u001b[43m(\u001b[49m\u001b[38;5;241;43m*\u001b[39;49m\u001b[43msubargs\u001b[49m\u001b[43m,\u001b[49m\u001b[43m \u001b[49m\u001b[38;5;241;43m*\u001b[39;49m\u001b[38;5;241;43m*\u001b[39;49m\u001b[43mkwargs\u001b[49m\u001b[43m)\u001b[49m\n",
      "Cell \u001b[1;32mIn[6], line 6\u001b[0m, in \u001b[0;36mcut_cost_fn\u001b[1;34m(p)\u001b[0m\n\u001b[0;32m      4\u001b[0m \u001b[38;5;28;01mdef\u001b[39;00m \u001b[38;5;21mcut_cost_fn\u001b[39m(p):\n\u001b[0;32m      5\u001b[0m     g, b \u001b[38;5;241m=\u001b[39m p\n\u001b[1;32m----> 6\u001b[0m     \u001b[43mgamma\u001b[49m\u001b[43m[\u001b[49m\u001b[38;5;241;43m.\u001b[39;49m\u001b[38;5;241;43m.\u001b[39;49m\u001b[38;5;241;43m.\u001b[39;49m\u001b[43m]\u001b[49m \u001b[38;5;241m=\u001b[39m g;  beta[\u001b[38;5;241m.\u001b[39m\u001b[38;5;241m.\u001b[39m\u001b[38;5;241m.\u001b[39m] \u001b[38;5;241m=\u001b[39m b\n\u001b[0;32m      7\u001b[0m     \u001b[38;5;28;01mreturn\u001b[39;00m stitch([f() \u001b[38;5;28;01mfor\u001b[39;00m f \u001b[38;5;129;01min\u001b[39;00m frags])\n",
      "\u001b[1;31mValueError\u001b[0m: setting an array element with a sequence."
     ]
    }
   ],
   "source": [
    "opt    = qml.GradientDescentOptimizer(0.2)\n",
    "params = qml.numpy.array([0.5, 0.3], requires_grad=True)   # [γ, β]\n",
    "\n",
    "def cut_cost_fn(p):\n",
    "    g, b = p\n",
    "    gamma[...] = g;  beta[...] = b\n",
    "    return stitch([f() for f in frags])\n",
    "\n",
    "for it in range(15):\n",
    "    params = opt.step(cut_cost_fn, params)\n",
    "    if it % 5 == 0:\n",
    "        print(f\"Iter {it:02d}  cost = {cut_cost_fn(params):.6f}\")\n",
    "\n",
    "print(\"Optimised (γ, β):\", params)\n",
    "print(\"Final cut cost  :\", cut_cost_fn(params))"
   ]
  },
  {
   "cell_type": "code",
   "execution_count": 4,
   "id": "77241578",
   "metadata": {},
   "outputs": [
    {
     "name": "stdout",
     "output_type": "stream",
     "text": [
      "Measurements: [expval(Z(0))]\n",
      "Measurement count: 1\n",
      "⟨Z⟩ after cutting: 0.0\n"
     ]
    }
   ],
   "source": [
    "import pennylane as qml\n",
    "from pennylane import qcut\n",
    "\n",
    "#A properly working cut_circuit method\n",
    "\n",
    "dev = qml.device(\"default.qubit\", wires=3)\n",
    "\n",
    "@qml.qnode(dev)\n",
    "def full_circuit():\n",
    "    qml.Hadamard(wires=0)\n",
    "    qml.CNOT(wires=[0, 1])\n",
    "    qml.CNOT(wires=[1, 2])\n",
    "    return qml.expval(qml.Z(0))  # Single measurement\n",
    "\n",
    "# Use construct() to get the tape\n",
    "tape = full_circuit.construct([], {})  # no parameters\n",
    "print(\"Measurements:\", tape.measurements)\n",
    "print(\"Measurement count:\", len(tape.measurements))\n",
    "\n",
    "# Apply cut_circuit\n",
    "cut_transform = lambda t: qcut.cut_circuit.transform(t, device_wires=dev.wires)\n",
    "fragment_tapes, processing_fn = cut_transform(tape)\n",
    "\n",
    "\n",
    "# Evaluate\n",
    "results = [qml.execute([frag], dev, None)[0] for frag in fragment_tapes]\n",
    "final_result = processing_fn(results)\n",
    "print(\"⟨Z⟩ after cutting:\", final_result)\n"
   ]
  },
  {
   "cell_type": "code",
   "execution_count": 52,
   "id": "4ac91064",
   "metadata": {},
   "outputs": [],
   "source": [
    "@qml.qnode(dev)\n",
    "def full_circuit():\n",
    "    qml.Hadamard(wires=0)\n",
    "    qml.CNOT(wires=[0, 1])\n",
    "    qml.CNOT(wires=[1, 2])\n",
    "    return qml.expval(qml.Z(0))\n"
   ]
  },
  {
   "cell_type": "code",
   "execution_count": null,
   "id": "24da8820",
   "metadata": {},
   "outputs": [],
   "source": [
    "\n",
    "\n",
    "tape = make_tape(full_circuit)()\n"
   ]
  },
  {
   "cell_type": "code",
   "execution_count": 54,
   "id": "a870cdeb",
   "metadata": {},
   "outputs": [
    {
     "ename": "ValueError",
     "evalue": "The circuit cutting workflow only supports circuits with a single output measurement",
     "output_type": "error",
     "traceback": [
      "\u001b[1;31m---------------------------------------------------------------------------\u001b[0m",
      "\u001b[1;31mValueError\u001b[0m                                Traceback (most recent call last)",
      "Cell \u001b[1;32mIn[54], line 4\u001b[0m\n\u001b[0;32m      1\u001b[0m \u001b[38;5;28;01mfrom\u001b[39;00m \u001b[38;5;21;01mpennylane\u001b[39;00m \u001b[38;5;28;01mimport\u001b[39;00m qcut\n\u001b[0;32m      3\u001b[0m cut_transform \u001b[38;5;241m=\u001b[39m qcut\u001b[38;5;241m.\u001b[39mcut_circuit\u001b[38;5;241m.\u001b[39mtransform\n\u001b[1;32m----> 4\u001b[0m fragment_tapes, processing_fn \u001b[38;5;241m=\u001b[39m \u001b[43mcut_transform\u001b[49m\u001b[43m(\u001b[49m\u001b[43mtape\u001b[49m\u001b[43m)\u001b[49m\n",
      "File \u001b[1;32mc:\\Users\\13174\\Documents\\GaltonBoard\\.pixi\\envs\\default\\Lib\\site-packages\\pennylane\\qcut\\cutcircuit.py:367\u001b[0m, in \u001b[0;36mcut_circuit\u001b[1;34m(tape, auto_cutter, use_opt_einsum, device_wires, max_depth, **kwargs)\u001b[0m\n\u001b[0;32m    365\u001b[0m \u001b[38;5;66;03m# pylint: disable=unused-argument\u001b[39;00m\n\u001b[0;32m    366\u001b[0m \u001b[38;5;28;01mif\u001b[39;00m \u001b[38;5;28mlen\u001b[39m(tape\u001b[38;5;241m.\u001b[39mmeasurements) \u001b[38;5;241m!=\u001b[39m \u001b[38;5;241m1\u001b[39m:\n\u001b[1;32m--> 367\u001b[0m     \u001b[38;5;28;01mraise\u001b[39;00m \u001b[38;5;167;01mValueError\u001b[39;00m(\n\u001b[0;32m    368\u001b[0m         \u001b[38;5;124m\"\u001b[39m\u001b[38;5;124mThe circuit cutting workflow only supports circuits with a single output \u001b[39m\u001b[38;5;124m\"\u001b[39m\n\u001b[0;32m    369\u001b[0m         \u001b[38;5;124m\"\u001b[39m\u001b[38;5;124mmeasurement\u001b[39m\u001b[38;5;124m\"\u001b[39m\n\u001b[0;32m    370\u001b[0m     )\n\u001b[0;32m    372\u001b[0m \u001b[38;5;28;01mif\u001b[39;00m \u001b[38;5;129;01mnot\u001b[39;00m \u001b[38;5;28mall\u001b[39m(\u001b[38;5;28misinstance\u001b[39m(m, ExpectationMP) \u001b[38;5;28;01mfor\u001b[39;00m m \u001b[38;5;129;01min\u001b[39;00m tape\u001b[38;5;241m.\u001b[39mmeasurements):\n\u001b[0;32m    373\u001b[0m     \u001b[38;5;28;01mraise\u001b[39;00m \u001b[38;5;167;01mValueError\u001b[39;00m(\n\u001b[0;32m    374\u001b[0m         \u001b[38;5;124m\"\u001b[39m\u001b[38;5;124mThe circuit cutting workflow only supports circuits with expectation \u001b[39m\u001b[38;5;124m\"\u001b[39m\n\u001b[0;32m    375\u001b[0m         \u001b[38;5;124m\"\u001b[39m\u001b[38;5;124mvalue measurements\u001b[39m\u001b[38;5;124m\"\u001b[39m\n\u001b[0;32m    376\u001b[0m     )\n",
      "\u001b[1;31mValueError\u001b[0m: The circuit cutting workflow only supports circuits with a single output measurement"
     ]
    }
   ],
   "source": [
    "from pennylane import qcut\n",
    "\n",
    "cut_transform = qcut.cut_circuit.transform\n",
    "fragment_tapes, processing_fn = cut_transform(tape)\n"
   ]
  }
 ],
 "metadata": {
  "kernelspec": {
   "display_name": "pixi (GaltonBoard)",
   "language": "python",
   "name": "pixi-galtonboard"
  },
  "language_info": {
   "codemirror_mode": {
    "name": "ipython",
    "version": 3
   },
   "file_extension": ".py",
   "mimetype": "text/x-python",
   "name": "python",
   "nbconvert_exporter": "python",
   "pygments_lexer": "ipython3",
   "version": "3.12.11"
  }
 },
 "nbformat": 4,
 "nbformat_minor": 5
}
