{
 "cells": [
  {
   "cell_type": "code",
   "execution_count": 1,
   "id": "a6b44a74",
   "metadata": {},
   "outputs": [
    {
     "name": "stdout",
     "output_type": "stream",
     "text": [
      "Note: you may need to restart the kernel to use updated packages.\n"
     ]
    }
   ],
   "source": [
    "%pip install -q \"qiskit>=1.0\" \"qiskit-aer>=0.13\" \"qiskit-ibm-runtime>=0.17\" \"pennylane-qiskit>=0.42\"\n",
    "# Qiskit Aer & PennyLane noise model w/ IBM Simulator\n"
   ]
  },
  {
   "cell_type": "code",
   "execution_count": 2,
   "id": "b5443a72",
   "metadata": {},
   "outputs": [],
   "source": [
    "import numpy as np\n",
    "import matplotlib.pyplot as plt\n",
    "import pandas as pd\n",
    "\n",
    "# Qiskit noise models\n",
    "# Note: was unable to create IBM account to import real backend, so we'll use this\n",
    "from qiskit_ibm_runtime.fake_provider import FakeSherbrooke, FakeJakarta\n",
    "from qiskit_aer.noise import NoiseModel\n",
    "\n",
    "# Convert (optional, for PennyLane 'pl_noise' path)\n",
    "from pennylane_qiskit import load_noise_model\n",
    "\n",
    "from utils import qalton\n",
    "\n",
    "# some helper functions\n",
    "\n",
    "def bins_from_counts(counts: dict, n_bins: int) -> np.ndarray:\n",
    "    \"\"\"Aggregate shot counts (little-endian bitstrings) into probabilities for each n-bins.\"\"\"\n",
    "    bins = np.zeros(n_bins, dtype=float)\n",
    "    total = 0\n",
    "    for bitstr, c in counts.items():\n",
    "        total += c\n",
    "        bin_idx = bitstr[::-1].find(\"1\")  # wire-0 is rightmost char\n",
    "        if 0 <= bin_idx < n_bins:\n",
    "            bins[bin_idx] += c\n",
    "    if total > 0:\n",
    "        bins /= total\n",
    "    return bins\n",
    "\n",
    "def bins_from_probs(probs: np.ndarray, n_bins: int) -> np.ndarray:\n",
    "    \"\"\"Aggregate an exact probability vector (2^n_bins long) into n_bins by position.\"\"\"\n",
    "    bins = np.zeros(n_bins, dtype=float)\n",
    "    for idx, p in enumerate(probs):\n",
    "        bitstr = format(idx, f\"0{n_bins}b\")[::-1]  # little-endian\n",
    "        if bitstr.count(\"1\") == 1:\n",
    "            bin_idx = bitstr.find(\"1\")\n",
    "            bins[bin_idx] += p\n",
    "    return bins\n",
    "\n",
    "#what is tvd?\n",
    "def tvd(p, q) -> float:\n",
    "    \"\"\"Total Variation Distance between two distributions p and q.\"\"\"\n",
    "    p = np.asarray(p, dtype=float)\n",
    "    q = np.asarray(q, dtype=float)\n",
    "    return 0.5 * np.abs(p - q).sum()\n"
   ]
  },
  {
   "cell_type": "markdown",
   "id": "385da738",
   "metadata": {},
   "source": [
    "# Noise Models"
   ]
  },
  {
   "cell_type": "code",
   "execution_count": 3,
   "id": "dae72420",
   "metadata": {},
   "outputs": [
    {
     "name": "stderr",
     "output_type": "stream",
     "text": [
      "C:\\Users\\13174\\AppData\\Local\\Temp\\ipykernel_24720\\3437833596.py:3: DeprecationWarning: V1 fake backends are deprecated as of qiskit-ibm-runtime 0.24 and will be removed no sooner than 3 months after the release date. Please use V2 fake backends instead.\n",
      "  backend_B = FakeJakarta()      # smaller device, different noise profile\n",
      "C:\\Users\\13174\\AppData\\Local\\Temp\\ipykernel_24720\\3437833596.py:6: DeprecationWarning:  from_backend using V1 based backend is deprecated as of Aer 0.15 and will be removed no sooner than 3 months from that release date. Please use backends based on V2.\n",
      "  noise_B_qiskit = NoiseModel.from_backend(backend_B)\n",
      "c:\\Users\\13174\\anaconda3\\Lib\\site-packages\\pennylane_qiskit\\noise_models.py:135: UserWarning: Readout errors are not supported currently and will be skipped.\n",
      "  warn(\"Readout errors are not supported currently and will be skipped.\")\n"
     ]
    }
   ],
   "source": [
    "# Again, fake backends so not real-time, but it'll have \"realistic\" calibrations\n",
    "backend_A = FakeSherbrooke()   # large device, modern calibration\n",
    "backend_B = FakeJakarta()      # smaller device, different noise profile\n",
    "\n",
    "noise_A_qiskit = NoiseModel.from_backend(backend_A)\n",
    "noise_B_qiskit = NoiseModel.from_backend(backend_B)\n",
    "\n",
    "noise_A_pl = load_noise_model(noise_A_qiskit)\n",
    "noise_B_pl = load_noise_model(noise_B_qiskit)\n"
   ]
  },
  {
   "cell_type": "markdown",
   "id": "1b58f305",
   "metadata": {},
   "source": [
    "# Experiment w/ Params"
   ]
  },
  {
   "cell_type": "code",
   "execution_count": 4,
   "id": "03397793",
   "metadata": {},
   "outputs": [],
   "source": [
    "levels       = 12          # number of bins\n",
    "shots_noisy  = 50_000      # sampling shots for noisy runs\n",
    "bias_biased  = 0.20        # how skewed we want it to be, if <0.5, then left skewed, else right skewed\n",
    "bias_walk    = 0.50        # Hadamard coin\n",
    "\n",
    "# choose which path to test: \"qiskit\" (Aer device) or \"pl\" (default.mixed + add_noise)\n",
    "noise_path = \"qiskit\"     "
   ]
  },
  {
   "cell_type": "markdown",
   "id": "512bc8f4",
   "metadata": {},
   "source": [
    "# Runner (One Config)"
   ]
  },
  {
   "cell_type": "code",
   "execution_count": 5,
   "id": "4d204d19",
   "metadata": {},
   "outputs": [],
   "source": [
    "def run_case(noise_label, noise_obj, distribution):\n",
    "    \"\"\"\n",
    "    Run one distribution under one noise model and compare to ideal.\n",
    "    noise_label: str label for reporting\n",
    "    noise_obj:   the noise model object (Qiskit NoiseModel or PL NoiseModel)\n",
    "    distribution: \"biased\" or \"walk\"\n",
    "    \"\"\"\n",
    "    is_qiskit = (noise_path == \"qiskit\")\n",
    "    # Set distribution parameters\n",
    "    if distribution == \"biased\":\n",
    "        bias = bias_biased\n",
    "        coherence = False\n",
    "    elif distribution == \"walk\":\n",
    "        bias = bias_walk\n",
    "        coherence = True\n",
    "    else:\n",
    "        raise ValueError(\"distribution must be 'biased' or 'walk'\")\n",
    "\n",
    "    # --- ideal (noiseless) reference: probs on a small statevector ---\n",
    "    qc_ideal = qalton.build_galton_circuit(\n",
    "        levels=levels, num_shots=1,       # probs, analytic\n",
    "        bias=bias, coherence=coherence,\n",
    "        return_counts=False               # return probabilities\n",
    "    )\n",
    "    probs_ideal = qc_ideal()\n",
    "    bins_ideal  = bins_from_probs(probs_ideal, n_bins=levels)\n",
    "\n",
    "    # --- noisy run: counts ---\n",
    "    if is_qiskit:\n",
    "        qc_noisy = qalton.build_galton_circuit(\n",
    "            levels=levels, num_shots=shots_noisy,\n",
    "            bias=bias, coherence=coherence,\n",
    "            qiskit_noise_model=noise_obj,   # Aer path\n",
    "            return_counts=True\n",
    "        )\n",
    "    else:\n",
    "        qc_noisy = qalton.build_galton_circuit(\n",
    "            levels=levels, num_shots=shots_noisy,\n",
    "            bias=bias, coherence=coherence,\n",
    "            pl_noise=noise_obj,             # PL path\n",
    "            return_counts=True\n",
    "        )\n",
    "\n",
    "    counts_noisy = qc_noisy()\n",
    "    bins_noisy   = bins_from_counts(counts_noisy, n_bins=levels)\n",
    "    metric_tvd   = tvd(bins_noisy, bins_ideal)\n",
    "\n",
    "    return bins_ideal, bins_noisy, metric_tvd\n"
   ]
  },
  {
   "cell_type": "markdown",
   "id": "0835c137",
   "metadata": {},
   "source": [
    "# Distributions on Both Noise Models"
   ]
  },
  {
   "cell_type": "code",
   "execution_count": 7,
   "id": "895aaca5",
   "metadata": {},
   "outputs": [
    {
     "ename": "WireError",
     "evalue": "Did not find some of the wires Wires([0, 24]) on device with wires Wires([0, 1, 2, 3, 4, 5, 6, 7, 8, 9, 10, 11, 12, 13, 14, 15, 16, 17, 18, 19, 20, 21, 22, 23]).",
     "output_type": "error",
     "traceback": [
      "\u001b[1;31m---------------------------------------------------------------------------\u001b[0m",
      "\u001b[1;31mWireError\u001b[0m                                 Traceback (most recent call last)",
      "File \u001b[1;32mc:\\Users\\13174\\anaconda3\\Lib\\site-packages\\pennylane\\devices\\_legacy_device.py:390\u001b[0m, in \u001b[0;36mDevice.map_wires\u001b[1;34m(self, wires)\u001b[0m\n\u001b[0;32m    389\u001b[0m \u001b[38;5;28;01mtry\u001b[39;00m:\n\u001b[1;32m--> 390\u001b[0m     mapped_wires \u001b[38;5;241m=\u001b[39m \u001b[43mwires\u001b[49m\u001b[38;5;241;43m.\u001b[39;49m\u001b[43mmap\u001b[49m\u001b[43m(\u001b[49m\u001b[38;5;28;43mself\u001b[39;49m\u001b[38;5;241;43m.\u001b[39;49m\u001b[43mwire_map\u001b[49m\u001b[43m)\u001b[49m\n\u001b[0;32m    391\u001b[0m \u001b[38;5;28;01mexcept\u001b[39;00m WireError \u001b[38;5;28;01mas\u001b[39;00m e:\n",
      "File \u001b[1;32mc:\\Users\\13174\\anaconda3\\Lib\\site-packages\\pennylane\\wires.py:325\u001b[0m, in \u001b[0;36mWires.map\u001b[1;34m(self, wire_map)\u001b[0m\n\u001b[0;32m    324\u001b[0m     \u001b[38;5;28;01mif\u001b[39;00m w \u001b[38;5;129;01mnot\u001b[39;00m \u001b[38;5;129;01min\u001b[39;00m wire_map:\n\u001b[1;32m--> 325\u001b[0m         \u001b[38;5;28;01mraise\u001b[39;00m WireError(\u001b[38;5;124mf\u001b[39m\u001b[38;5;124m\"\u001b[39m\u001b[38;5;124mNo mapping for wire label \u001b[39m\u001b[38;5;132;01m{\u001b[39;00mw\u001b[38;5;132;01m}\u001b[39;00m\u001b[38;5;124m specified in wire map \u001b[39m\u001b[38;5;132;01m{\u001b[39;00mwire_map\u001b[38;5;132;01m}\u001b[39;00m\u001b[38;5;124m.\u001b[39m\u001b[38;5;124m\"\u001b[39m)\n\u001b[0;32m    327\u001b[0m new_wires \u001b[38;5;241m=\u001b[39m [wire_map[w] \u001b[38;5;28;01mfor\u001b[39;00m w \u001b[38;5;129;01min\u001b[39;00m \u001b[38;5;28mself\u001b[39m]\n",
      "\u001b[1;31mWireError\u001b[0m: No mapping for wire label 24 specified in wire map OrderedDict({0: 0, 1: 1, 2: 2, 3: 3, 4: 4, 5: 5, 6: 6, 7: 7, 8: 8, 9: 9, 10: 10, 11: 11, 12: 12, 13: 13, 14: 14, 15: 15, 16: 16, 17: 17, 18: 18, 19: 19, 20: 20, 21: 21, 22: 22, 23: 23}).",
      "\nThe above exception was the direct cause of the following exception:\n",
      "\u001b[1;31mWireError\u001b[0m                                 Traceback (most recent call last)",
      "Cell \u001b[1;32mIn[7], line 13\u001b[0m\n\u001b[0;32m     11\u001b[0m \u001b[38;5;28;01mfor\u001b[39;00m label, nm \u001b[38;5;129;01min\u001b[39;00m [(\u001b[38;5;124m\"\u001b[39m\u001b[38;5;124mFakeSherbrooke\u001b[39m\u001b[38;5;124m\"\u001b[39m, noise_A), (\u001b[38;5;124m\"\u001b[39m\u001b[38;5;124mFakeJakarta\u001b[39m\u001b[38;5;124m\"\u001b[39m, noise_B)]:\n\u001b[0;32m     12\u001b[0m     \u001b[38;5;28;01mfor\u001b[39;00m dist \u001b[38;5;129;01min\u001b[39;00m [\u001b[38;5;124m\"\u001b[39m\u001b[38;5;124mbiased\u001b[39m\u001b[38;5;124m\"\u001b[39m, \u001b[38;5;124m\"\u001b[39m\u001b[38;5;124mwalk\u001b[39m\u001b[38;5;124m\"\u001b[39m]:\n\u001b[1;32m---> 13\u001b[0m         ideal, noisy, d \u001b[38;5;241m=\u001b[39m \u001b[43mrun_case\u001b[49m\u001b[43m(\u001b[49m\u001b[43mlabel\u001b[49m\u001b[43m,\u001b[49m\u001b[43m \u001b[49m\u001b[43mnm\u001b[49m\u001b[43m,\u001b[49m\u001b[43m \u001b[49m\u001b[43mdist\u001b[49m\u001b[43m)\u001b[49m\n\u001b[0;32m     14\u001b[0m         results\u001b[38;5;241m.\u001b[39mappend({\n\u001b[0;32m     15\u001b[0m             \u001b[38;5;124m\"\u001b[39m\u001b[38;5;124mnoise_model\u001b[39m\u001b[38;5;124m\"\u001b[39m: label,\n\u001b[0;32m     16\u001b[0m             \u001b[38;5;124m\"\u001b[39m\u001b[38;5;124mpath\u001b[39m\u001b[38;5;124m\"\u001b[39m: noise_path,\n\u001b[1;32m   (...)\u001b[0m\n\u001b[0;32m     20\u001b[0m             \u001b[38;5;124m\"\u001b[39m\u001b[38;5;124mnoisy\u001b[39m\u001b[38;5;124m\"\u001b[39m: noisy,\n\u001b[0;32m     21\u001b[0m         })\n\u001b[0;32m     23\u001b[0m df \u001b[38;5;241m=\u001b[39m pd\u001b[38;5;241m.\u001b[39mDataFrame(results)[[\u001b[38;5;124m\"\u001b[39m\u001b[38;5;124mnoise_model\u001b[39m\u001b[38;5;124m\"\u001b[39m, \u001b[38;5;124m\"\u001b[39m\u001b[38;5;124mpath\u001b[39m\u001b[38;5;124m\"\u001b[39m, \u001b[38;5;124m\"\u001b[39m\u001b[38;5;124mdistribution\u001b[39m\u001b[38;5;124m\"\u001b[39m, \u001b[38;5;124m\"\u001b[39m\u001b[38;5;124mTVD\u001b[39m\u001b[38;5;124m\"\u001b[39m]]\n",
      "Cell \u001b[1;32mIn[5], line 44\u001b[0m, in \u001b[0;36mrun_case\u001b[1;34m(noise_label, noise_obj, distribution)\u001b[0m\n\u001b[0;32m     36\u001b[0m \u001b[38;5;28;01melse\u001b[39;00m:\n\u001b[0;32m     37\u001b[0m     qc_noisy \u001b[38;5;241m=\u001b[39m qalton\u001b[38;5;241m.\u001b[39mbuild_galton_circuit(\n\u001b[0;32m     38\u001b[0m         levels\u001b[38;5;241m=\u001b[39mlevels, num_shots\u001b[38;5;241m=\u001b[39mshots_noisy,\n\u001b[0;32m     39\u001b[0m         bias\u001b[38;5;241m=\u001b[39mbias, coherence\u001b[38;5;241m=\u001b[39mcoherence,\n\u001b[0;32m     40\u001b[0m         pl_noise\u001b[38;5;241m=\u001b[39mnoise_obj,             \u001b[38;5;66;03m# PL path\u001b[39;00m\n\u001b[0;32m     41\u001b[0m         return_counts\u001b[38;5;241m=\u001b[39m\u001b[38;5;28;01mTrue\u001b[39;00m\n\u001b[0;32m     42\u001b[0m     )\n\u001b[1;32m---> 44\u001b[0m counts_noisy \u001b[38;5;241m=\u001b[39m \u001b[43mqc_noisy\u001b[49m\u001b[43m(\u001b[49m\u001b[43m)\u001b[49m\n\u001b[0;32m     45\u001b[0m bins_noisy   \u001b[38;5;241m=\u001b[39m bins_from_counts(counts_noisy, n_bins\u001b[38;5;241m=\u001b[39mlevels)\n\u001b[0;32m     46\u001b[0m metric_tvd   \u001b[38;5;241m=\u001b[39m tvd(bins_noisy, bins_ideal)\n",
      "File \u001b[1;32mc:\\Users\\13174\\anaconda3\\Lib\\site-packages\\pennylane\\workflow\\qnode.py:922\u001b[0m, in \u001b[0;36mQNode.__call__\u001b[1;34m(self, *args, **kwargs)\u001b[0m\n\u001b[0;32m    919\u001b[0m     \u001b[38;5;28;01mfrom\u001b[39;00m \u001b[38;5;21;01m.\u001b[39;00m\u001b[38;5;21;01m_capture_qnode\u001b[39;00m \u001b[38;5;28;01mimport\u001b[39;00m capture_qnode  \u001b[38;5;66;03m# pylint: disable=import-outside-toplevel\u001b[39;00m\n\u001b[0;32m    921\u001b[0m     \u001b[38;5;28;01mreturn\u001b[39;00m capture_qnode(\u001b[38;5;28mself\u001b[39m, \u001b[38;5;241m*\u001b[39margs, \u001b[38;5;241m*\u001b[39m\u001b[38;5;241m*\u001b[39mkwargs)\n\u001b[1;32m--> 922\u001b[0m \u001b[38;5;28;01mreturn\u001b[39;00m \u001b[38;5;28;43mself\u001b[39;49m\u001b[38;5;241;43m.\u001b[39;49m\u001b[43m_impl_call\u001b[49m\u001b[43m(\u001b[49m\u001b[38;5;241;43m*\u001b[39;49m\u001b[43margs\u001b[49m\u001b[43m,\u001b[49m\u001b[43m \u001b[49m\u001b[38;5;241;43m*\u001b[39;49m\u001b[38;5;241;43m*\u001b[39;49m\u001b[43mkwargs\u001b[49m\u001b[43m)\u001b[49m\n",
      "File \u001b[1;32mc:\\Users\\13174\\anaconda3\\Lib\\site-packages\\pennylane\\workflow\\qnode.py:895\u001b[0m, in \u001b[0;36mQNode._impl_call\u001b[1;34m(self, *args, **kwargs)\u001b[0m\n\u001b[0;32m    892\u001b[0m \u001b[38;5;66;03m# Calculate the classical jacobians if necessary\u001b[39;00m\n\u001b[0;32m    893\u001b[0m \u001b[38;5;28mself\u001b[39m\u001b[38;5;241m.\u001b[39m_transform_program\u001b[38;5;241m.\u001b[39mset_classical_component(\u001b[38;5;28mself\u001b[39m, args, kwargs)\n\u001b[1;32m--> 895\u001b[0m res \u001b[38;5;241m=\u001b[39m \u001b[43mexecute\u001b[49m\u001b[43m(\u001b[49m\n\u001b[0;32m    896\u001b[0m \u001b[43m    \u001b[49m\u001b[43m(\u001b[49m\u001b[43mtape\u001b[49m\u001b[43m,\u001b[49m\u001b[43m)\u001b[49m\u001b[43m,\u001b[49m\n\u001b[0;32m    897\u001b[0m \u001b[43m    \u001b[49m\u001b[43mdevice\u001b[49m\u001b[38;5;241;43m=\u001b[39;49m\u001b[38;5;28;43mself\u001b[39;49m\u001b[38;5;241;43m.\u001b[39;49m\u001b[43mdevice\u001b[49m\u001b[43m,\u001b[49m\n\u001b[0;32m    898\u001b[0m \u001b[43m    \u001b[49m\u001b[43mdiff_method\u001b[49m\u001b[38;5;241;43m=\u001b[39;49m\u001b[38;5;28;43mself\u001b[39;49m\u001b[38;5;241;43m.\u001b[39;49m\u001b[43mdiff_method\u001b[49m\u001b[43m,\u001b[49m\n\u001b[0;32m    899\u001b[0m \u001b[43m    \u001b[49m\u001b[43minterface\u001b[49m\u001b[38;5;241;43m=\u001b[39;49m\u001b[38;5;28;43mself\u001b[39;49m\u001b[38;5;241;43m.\u001b[39;49m\u001b[43minterface\u001b[49m\u001b[43m,\u001b[49m\n\u001b[0;32m    900\u001b[0m \u001b[43m    \u001b[49m\u001b[43mtransform_program\u001b[49m\u001b[38;5;241;43m=\u001b[39;49m\u001b[38;5;28;43mself\u001b[39;49m\u001b[38;5;241;43m.\u001b[39;49m\u001b[43m_transform_program\u001b[49m\u001b[43m,\u001b[49m\n\u001b[0;32m    901\u001b[0m \u001b[43m    \u001b[49m\u001b[43mgradient_kwargs\u001b[49m\u001b[38;5;241;43m=\u001b[39;49m\u001b[38;5;28;43mself\u001b[39;49m\u001b[38;5;241;43m.\u001b[39;49m\u001b[43mgradient_kwargs\u001b[49m\u001b[43m,\u001b[49m\n\u001b[0;32m    902\u001b[0m \u001b[43m    \u001b[49m\u001b[38;5;241;43m*\u001b[39;49m\u001b[38;5;241;43m*\u001b[39;49m\u001b[38;5;28;43mself\u001b[39;49m\u001b[38;5;241;43m.\u001b[39;49m\u001b[43mexecute_kwargs\u001b[49m\u001b[43m,\u001b[49m\n\u001b[0;32m    903\u001b[0m \u001b[43m\u001b[49m\u001b[43m)\u001b[49m\n\u001b[0;32m    904\u001b[0m res \u001b[38;5;241m=\u001b[39m res[\u001b[38;5;241m0\u001b[39m]\n\u001b[0;32m    906\u001b[0m \u001b[38;5;66;03m# convert result to the interface in case the qfunc has no parameters\u001b[39;00m\n",
      "File \u001b[1;32mc:\\Users\\13174\\anaconda3\\Lib\\site-packages\\pennylane\\workflow\\execution.py:233\u001b[0m, in \u001b[0;36mexecute\u001b[1;34m(tapes, device, diff_method, interface, grad_on_execution, cache, cachesize, max_diff, device_vjp, postselect_mode, mcm_method, gradient_kwargs, transform_program, executor_backend)\u001b[0m\n\u001b[0;32m    229\u001b[0m tapes, outer_post_processing \u001b[38;5;241m=\u001b[39m outer_transform(tapes)\n\u001b[0;32m    231\u001b[0m \u001b[38;5;28;01massert\u001b[39;00m \u001b[38;5;129;01mnot\u001b[39;00m outer_transform\u001b[38;5;241m.\u001b[39mis_informative, \u001b[38;5;124m\"\u001b[39m\u001b[38;5;124mshould only contain device preprocessing\u001b[39m\u001b[38;5;124m\"\u001b[39m\n\u001b[1;32m--> 233\u001b[0m results \u001b[38;5;241m=\u001b[39m \u001b[43mrun\u001b[49m\u001b[43m(\u001b[49m\u001b[43mtapes\u001b[49m\u001b[43m,\u001b[49m\u001b[43m \u001b[49m\u001b[43mdevice\u001b[49m\u001b[43m,\u001b[49m\u001b[43m \u001b[49m\u001b[43mconfig\u001b[49m\u001b[43m,\u001b[49m\u001b[43m \u001b[49m\u001b[43minner_transform\u001b[49m\u001b[43m)\u001b[49m\n\u001b[0;32m    234\u001b[0m \u001b[38;5;28;01mreturn\u001b[39;00m user_post_processing(outer_post_processing(results))\n",
      "File \u001b[1;32mc:\\Users\\13174\\anaconda3\\Lib\\site-packages\\pennylane\\workflow\\run.py:291\u001b[0m, in \u001b[0;36mrun\u001b[1;34m(tapes, device, config, inner_transform_program)\u001b[0m\n\u001b[0;32m    287\u001b[0m no_interface_boundary_required \u001b[38;5;241m=\u001b[39m (\n\u001b[0;32m    288\u001b[0m     config\u001b[38;5;241m.\u001b[39minterface \u001b[38;5;241m==\u001b[39m Interface\u001b[38;5;241m.\u001b[39mNUMPY \u001b[38;5;129;01mor\u001b[39;00m config\u001b[38;5;241m.\u001b[39mgradient_method \u001b[38;5;241m==\u001b[39m \u001b[38;5;124m\"\u001b[39m\u001b[38;5;124mbackprop\u001b[39m\u001b[38;5;124m\"\u001b[39m\n\u001b[0;32m    289\u001b[0m )\n\u001b[0;32m    290\u001b[0m \u001b[38;5;28;01mif\u001b[39;00m no_interface_boundary_required:\n\u001b[1;32m--> 291\u001b[0m     results \u001b[38;5;241m=\u001b[39m \u001b[43minner_execute\u001b[49m\u001b[43m(\u001b[49m\u001b[43mtapes\u001b[49m\u001b[43m)\u001b[49m\n\u001b[0;32m    292\u001b[0m     \u001b[38;5;28;01mreturn\u001b[39;00m results\n\u001b[0;32m    294\u001b[0m \u001b[38;5;66;03m# TODO: Prune once support for tf-autograph is dropped\u001b[39;00m\n",
      "File \u001b[1;32mc:\\Users\\13174\\anaconda3\\Lib\\site-packages\\pennylane\\workflow\\run.py:256\u001b[0m, in \u001b[0;36m_make_inner_execute.<locals>.inner_execute\u001b[1;34m(tapes)\u001b[0m\n\u001b[0;32m    253\u001b[0m transformed_tapes, transform_post_processing \u001b[38;5;241m=\u001b[39m inner_transform(tapes)\n\u001b[0;32m    255\u001b[0m \u001b[38;5;28;01mif\u001b[39;00m transformed_tapes:\n\u001b[1;32m--> 256\u001b[0m     results \u001b[38;5;241m=\u001b[39m \u001b[43mdevice\u001b[49m\u001b[38;5;241;43m.\u001b[39;49m\u001b[43mexecute\u001b[49m\u001b[43m(\u001b[49m\u001b[43mtransformed_tapes\u001b[49m\u001b[43m,\u001b[49m\u001b[43m \u001b[49m\u001b[43mexecution_config\u001b[49m\u001b[38;5;241;43m=\u001b[39;49m\u001b[43mexecution_config\u001b[49m\u001b[43m)\u001b[49m\n\u001b[0;32m    257\u001b[0m \u001b[38;5;28;01melse\u001b[39;00m:\n\u001b[0;32m    258\u001b[0m     results \u001b[38;5;241m=\u001b[39m ()\n",
      "File \u001b[1;32mc:\\Users\\13174\\anaconda3\\Lib\\site-packages\\pennylane\\devices\\modifiers\\single_tape_support.py:30\u001b[0m, in \u001b[0;36m_make_execute.<locals>.execute\u001b[1;34m(self, circuits, execution_config)\u001b[0m\n\u001b[0;32m     28\u001b[0m     is_single_circuit \u001b[38;5;241m=\u001b[39m \u001b[38;5;28;01mTrue\u001b[39;00m\n\u001b[0;32m     29\u001b[0m     circuits \u001b[38;5;241m=\u001b[39m (circuits,)\n\u001b[1;32m---> 30\u001b[0m results \u001b[38;5;241m=\u001b[39m \u001b[43mbatch_execute\u001b[49m\u001b[43m(\u001b[49m\u001b[38;5;28;43mself\u001b[39;49m\u001b[43m,\u001b[49m\u001b[43m \u001b[49m\u001b[43mcircuits\u001b[49m\u001b[43m,\u001b[49m\u001b[43m \u001b[49m\u001b[43mexecution_config\u001b[49m\u001b[43m)\u001b[49m\n\u001b[0;32m     31\u001b[0m \u001b[38;5;28;01mreturn\u001b[39;00m results[\u001b[38;5;241m0\u001b[39m] \u001b[38;5;28;01mif\u001b[39;00m is_single_circuit \u001b[38;5;28;01melse\u001b[39;00m results\n",
      "File \u001b[1;32mc:\\Users\\13174\\anaconda3\\Lib\\site-packages\\pennylane\\devices\\legacy_facade.py:378\u001b[0m, in \u001b[0;36mLegacyDeviceFacade.execute\u001b[1;34m(self, circuits, execution_config)\u001b[0m\n\u001b[0;32m    376\u001b[0m first_shot \u001b[38;5;241m=\u001b[39m circuits[\u001b[38;5;241m0\u001b[39m]\u001b[38;5;241m.\u001b[39mshots\n\u001b[0;32m    377\u001b[0m \u001b[38;5;28;01mif\u001b[39;00m \u001b[38;5;28mall\u001b[39m(t\u001b[38;5;241m.\u001b[39mshots \u001b[38;5;241m==\u001b[39m first_shot \u001b[38;5;28;01mfor\u001b[39;00m t \u001b[38;5;129;01min\u001b[39;00m circuits):\n\u001b[1;32m--> 378\u001b[0m     \u001b[38;5;28;01mreturn\u001b[39;00m \u001b[43m_set_shots\u001b[49m\u001b[43m(\u001b[49m\u001b[43mdev\u001b[49m\u001b[43m,\u001b[49m\u001b[43m \u001b[49m\u001b[43mfirst_shot\u001b[49m\u001b[43m)\u001b[49m\u001b[43m(\u001b[49m\u001b[43mdev\u001b[49m\u001b[38;5;241;43m.\u001b[39;49m\u001b[43mbatch_execute\u001b[49m\u001b[43m)\u001b[49m\u001b[43m(\u001b[49m\u001b[43mcircuits\u001b[49m\u001b[43m,\u001b[49m\u001b[43m \u001b[49m\u001b[38;5;241;43m*\u001b[39;49m\u001b[38;5;241;43m*\u001b[39;49m\u001b[43mkwargs\u001b[49m\u001b[43m)\u001b[49m\n\u001b[0;32m    379\u001b[0m \u001b[38;5;28;01mreturn\u001b[39;00m \u001b[38;5;28mtuple\u001b[39m(\n\u001b[0;32m    380\u001b[0m     _set_shots(dev, t\u001b[38;5;241m.\u001b[39mshots)(dev\u001b[38;5;241m.\u001b[39mbatch_execute)((t,), \u001b[38;5;241m*\u001b[39m\u001b[38;5;241m*\u001b[39mkwargs)[\u001b[38;5;241m0\u001b[39m] \u001b[38;5;28;01mfor\u001b[39;00m t \u001b[38;5;129;01min\u001b[39;00m circuits\n\u001b[0;32m    381\u001b[0m )\n",
      "File \u001b[1;32mc:\\Users\\13174\\anaconda3\\Lib\\contextlib.py:81\u001b[0m, in \u001b[0;36mContextDecorator.__call__.<locals>.inner\u001b[1;34m(*args, **kwds)\u001b[0m\n\u001b[0;32m     78\u001b[0m \u001b[38;5;129m@wraps\u001b[39m(func)\n\u001b[0;32m     79\u001b[0m \u001b[38;5;28;01mdef\u001b[39;00m \u001b[38;5;21minner\u001b[39m(\u001b[38;5;241m*\u001b[39margs, \u001b[38;5;241m*\u001b[39m\u001b[38;5;241m*\u001b[39mkwds):\n\u001b[0;32m     80\u001b[0m     \u001b[38;5;28;01mwith\u001b[39;00m \u001b[38;5;28mself\u001b[39m\u001b[38;5;241m.\u001b[39m_recreate_cm():\n\u001b[1;32m---> 81\u001b[0m         \u001b[38;5;28;01mreturn\u001b[39;00m \u001b[43mfunc\u001b[49m\u001b[43m(\u001b[49m\u001b[38;5;241;43m*\u001b[39;49m\u001b[43margs\u001b[49m\u001b[43m,\u001b[49m\u001b[43m \u001b[49m\u001b[38;5;241;43m*\u001b[39;49m\u001b[38;5;241;43m*\u001b[39;49m\u001b[43mkwds\u001b[49m\u001b[43m)\u001b[49m\n",
      "File \u001b[1;32mc:\\Users\\13174\\anaconda3\\Lib\\site-packages\\pennylane_qiskit\\qiskit_device_legacy.py:446\u001b[0m, in \u001b[0;36mQiskitDeviceLegacy.batch_execute\u001b[1;34m(self, circuits, timeout)\u001b[0m\n\u001b[0;32m    443\u001b[0m \u001b[38;5;28;01mdef\u001b[39;00m \u001b[38;5;21mbatch_execute\u001b[39m(\u001b[38;5;28mself\u001b[39m, circuits, timeout: \u001b[38;5;28mint\u001b[39m \u001b[38;5;241m=\u001b[39m \u001b[38;5;28;01mNone\u001b[39;00m):\n\u001b[0;32m    444\u001b[0m \u001b[38;5;250m    \u001b[39m\u001b[38;5;124;03m\"\"\"Batch execute the circuits on the device\"\"\"\u001b[39;00m\n\u001b[1;32m--> 446\u001b[0m     compiled_circuits \u001b[38;5;241m=\u001b[39m \u001b[38;5;28;43mself\u001b[39;49m\u001b[38;5;241;43m.\u001b[39;49m\u001b[43mcompile_circuits\u001b[49m\u001b[43m(\u001b[49m\u001b[43mcircuits\u001b[49m\u001b[43m)\u001b[49m\n\u001b[0;32m    448\u001b[0m     \u001b[38;5;28;01mif\u001b[39;00m \u001b[38;5;129;01mnot\u001b[39;00m compiled_circuits:\n\u001b[0;32m    449\u001b[0m         \u001b[38;5;66;03m# At least one circuit must always be provided to the backend.\u001b[39;00m\n\u001b[0;32m    450\u001b[0m         \u001b[38;5;28;01mreturn\u001b[39;00m []\n",
      "File \u001b[1;32mc:\\Users\\13174\\anaconda3\\Lib\\site-packages\\pennylane_qiskit\\qiskit_device_legacy.py:435\u001b[0m, in \u001b[0;36mQiskitDeviceLegacy.compile_circuits\u001b[1;34m(self, circuits)\u001b[0m\n\u001b[0;32m    431\u001b[0m \u001b[38;5;28;01mfor\u001b[39;00m circuit \u001b[38;5;129;01min\u001b[39;00m circuits:\n\u001b[0;32m    432\u001b[0m     \u001b[38;5;66;03m# We need to reset the device here, else it will\u001b[39;00m\n\u001b[0;32m    433\u001b[0m     \u001b[38;5;66;03m# not start the next computation in the zero state\u001b[39;00m\n\u001b[0;32m    434\u001b[0m     \u001b[38;5;28mself\u001b[39m\u001b[38;5;241m.\u001b[39mreset()\n\u001b[1;32m--> 435\u001b[0m     \u001b[38;5;28;43mself\u001b[39;49m\u001b[38;5;241;43m.\u001b[39;49m\u001b[43mcreate_circuit_object\u001b[49m\u001b[43m(\u001b[49m\u001b[43mcircuit\u001b[49m\u001b[38;5;241;43m.\u001b[39;49m\u001b[43moperations\u001b[49m\u001b[43m,\u001b[49m\u001b[43m \u001b[49m\u001b[43mrotations\u001b[49m\u001b[38;5;241;43m=\u001b[39;49m\u001b[43mcircuit\u001b[49m\u001b[38;5;241;43m.\u001b[39;49m\u001b[43mdiagonalizing_gates\u001b[49m\u001b[43m)\u001b[49m\n\u001b[0;32m    437\u001b[0m     compiled_circ \u001b[38;5;241m=\u001b[39m \u001b[38;5;28mself\u001b[39m\u001b[38;5;241m.\u001b[39mcompile()\n\u001b[0;32m    438\u001b[0m     compiled_circ\u001b[38;5;241m.\u001b[39mname \u001b[38;5;241m=\u001b[39m \u001b[38;5;124mf\u001b[39m\u001b[38;5;124m\"\u001b[39m\u001b[38;5;124mcirc\u001b[39m\u001b[38;5;132;01m{\u001b[39;00m\u001b[38;5;28mlen\u001b[39m(compiled_circuits)\u001b[38;5;132;01m}\u001b[39;00m\u001b[38;5;124m\"\u001b[39m\n",
      "File \u001b[1;32mc:\\Users\\13174\\anaconda3\\Lib\\site-packages\\pennylane_qiskit\\qiskit_device_legacy.py:247\u001b[0m, in \u001b[0;36mQiskitDeviceLegacy.create_circuit_object\u001b[1;34m(self, operations, **kwargs)\u001b[0m\n\u001b[0;32m    235\u001b[0m \u001b[38;5;250m\u001b[39m\u001b[38;5;124;03m\"\"\"Builds the circuit objects based on the operations and measurements\u001b[39;00m\n\u001b[0;32m    236\u001b[0m \u001b[38;5;124;03mspecified to apply.\u001b[39;00m\n\u001b[0;32m    237\u001b[0m \n\u001b[1;32m   (...)\u001b[0m\n\u001b[0;32m    243\u001b[0m \u001b[38;5;124;03m        pre-measurement into the eigenbasis of the observables.\u001b[39;00m\n\u001b[0;32m    244\u001b[0m \u001b[38;5;124;03m\"\"\"\u001b[39;00m\n\u001b[0;32m    245\u001b[0m rotations \u001b[38;5;241m=\u001b[39m kwargs\u001b[38;5;241m.\u001b[39mget(\u001b[38;5;124m\"\u001b[39m\u001b[38;5;124mrotations\u001b[39m\u001b[38;5;124m\"\u001b[39m, [])\n\u001b[1;32m--> 247\u001b[0m applied_operations \u001b[38;5;241m=\u001b[39m \u001b[38;5;28;43mself\u001b[39;49m\u001b[38;5;241;43m.\u001b[39;49m\u001b[43mapply_operations\u001b[49m\u001b[43m(\u001b[49m\u001b[43moperations\u001b[49m\u001b[43m)\u001b[49m\n\u001b[0;32m    249\u001b[0m \u001b[38;5;66;03m# Rotating the state for measurement in the computational basis\u001b[39;00m\n\u001b[0;32m    250\u001b[0m rotation_circuits \u001b[38;5;241m=\u001b[39m \u001b[38;5;28mself\u001b[39m\u001b[38;5;241m.\u001b[39mapply_operations(rotations)\n",
      "File \u001b[1;32mc:\\Users\\13174\\anaconda3\\Lib\\site-packages\\pennylane_qiskit\\qiskit_device_legacy.py:287\u001b[0m, in \u001b[0;36mQiskitDeviceLegacy.apply_operations\u001b[1;34m(self, operations)\u001b[0m\n\u001b[0;32m    283\u001b[0m circuits \u001b[38;5;241m=\u001b[39m []\n\u001b[0;32m    285\u001b[0m \u001b[38;5;28;01mfor\u001b[39;00m operation \u001b[38;5;129;01min\u001b[39;00m operations:\n\u001b[0;32m    286\u001b[0m     \u001b[38;5;66;03m# Apply the circuit operations\u001b[39;00m\n\u001b[1;32m--> 287\u001b[0m     device_wires \u001b[38;5;241m=\u001b[39m \u001b[38;5;28;43mself\u001b[39;49m\u001b[38;5;241;43m.\u001b[39;49m\u001b[43mmap_wires\u001b[49m\u001b[43m(\u001b[49m\u001b[43moperation\u001b[49m\u001b[38;5;241;43m.\u001b[39;49m\u001b[43mwires\u001b[49m\u001b[43m)\u001b[49m\n\u001b[0;32m    288\u001b[0m     par \u001b[38;5;241m=\u001b[39m operation\u001b[38;5;241m.\u001b[39mparameters\n\u001b[0;32m    290\u001b[0m     \u001b[38;5;28;01mfor\u001b[39;00m idx, p \u001b[38;5;129;01min\u001b[39;00m \u001b[38;5;28menumerate\u001b[39m(par):\n",
      "File \u001b[1;32mc:\\Users\\13174\\anaconda3\\Lib\\site-packages\\pennylane\\devices\\_legacy_device.py:392\u001b[0m, in \u001b[0;36mDevice.map_wires\u001b[1;34m(self, wires)\u001b[0m\n\u001b[0;32m    390\u001b[0m     mapped_wires \u001b[38;5;241m=\u001b[39m wires\u001b[38;5;241m.\u001b[39mmap(\u001b[38;5;28mself\u001b[39m\u001b[38;5;241m.\u001b[39mwire_map)\n\u001b[0;32m    391\u001b[0m \u001b[38;5;28;01mexcept\u001b[39;00m WireError \u001b[38;5;28;01mas\u001b[39;00m e:\n\u001b[1;32m--> 392\u001b[0m     \u001b[38;5;28;01mraise\u001b[39;00m WireError(\n\u001b[0;32m    393\u001b[0m         \u001b[38;5;124mf\u001b[39m\u001b[38;5;124m\"\u001b[39m\u001b[38;5;124mDid not find some of the wires \u001b[39m\u001b[38;5;132;01m{\u001b[39;00mwires\u001b[38;5;132;01m}\u001b[39;00m\u001b[38;5;124m on device with wires \u001b[39m\u001b[38;5;132;01m{\u001b[39;00m\u001b[38;5;28mself\u001b[39m\u001b[38;5;241m.\u001b[39mwires\u001b[38;5;132;01m}\u001b[39;00m\u001b[38;5;124m.\u001b[39m\u001b[38;5;124m\"\u001b[39m\n\u001b[0;32m    394\u001b[0m     ) \u001b[38;5;28;01mfrom\u001b[39;00m \u001b[38;5;21;01me\u001b[39;00m\n\u001b[0;32m    396\u001b[0m \u001b[38;5;28;01mreturn\u001b[39;00m mapped_wires\n",
      "\u001b[1;31mWireError\u001b[0m: Did not find some of the wires Wires([0, 24]) on device with wires Wires([0, 1, 2, 3, 4, 5, 6, 7, 8, 9, 10, 11, 12, 13, 14, 15, 16, 17, 18, 19, 20, 21, 22, 23])."
     ]
    }
   ],
   "source": [
    "results = []\n",
    "\n",
    "# Model A\n",
    "if noise_path == \"qiskit\":\n",
    "    noise_A = noise_A_qiskit\n",
    "    noise_B = noise_B_qiskit\n",
    "else:\n",
    "    noise_A = noise_A_pl\n",
    "    noise_B = noise_B_pl\n",
    "\n",
    "for label, nm in [(\"FakeSherbrooke\", noise_A), (\"FakeJakarta\", noise_B)]:\n",
    "    for dist in [\"biased\", \"walk\"]:\n",
    "        ideal, noisy, d = run_case(label, nm, dist)\n",
    "        results.append({\n",
    "            \"noise_model\": label,\n",
    "            \"path\": noise_path,\n",
    "            \"distribution\": dist,\n",
    "            \"TVD\": d,\n",
    "            \"ideal\": ideal,\n",
    "            \"noisy\": noisy,\n",
    "        })\n",
    "\n",
    "df = pd.DataFrame(results)[[\"noise_model\", \"path\", \"distribution\", \"TVD\"]]\n",
    "display(df)\n"
   ]
  }
 ],
 "metadata": {
  "kernelspec": {
   "display_name": "base",
   "language": "python",
   "name": "python3"
  },
  "language_info": {
   "codemirror_mode": {
    "name": "ipython",
    "version": 3
   },
   "file_extension": ".py",
   "mimetype": "text/x-python",
   "name": "python",
   "nbconvert_exporter": "python",
   "pygments_lexer": "ipython3",
   "version": "3.12.7"
  }
 },
 "nbformat": 4,
 "nbformat_minor": 5
}
